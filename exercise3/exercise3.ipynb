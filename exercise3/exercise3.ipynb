{
 "cells": [
  {
   "cell_type": "code",
   "execution_count": 1,
   "metadata": {
    "collapsed": false
   },
   "outputs": [
    {
     "data": {
      "text/plain": [
       "Dict{String,Any} with 2 entries:\n",
       "  \"X\" => [0.0 0.0 … 0.0 0.0; 0.0 0.0 … 0.0 0.0; … ; 0.0 0.0 … 0.0 0.0; 0.0 0.0 …\n",
       "  \"y\" => [10.0; 10.0; … ; 9.0; 9.0]"
      ]
     },
     "execution_count": 1,
     "metadata": {},
     "output_type": "execute_result"
    }
   ],
   "source": [
    "using MAT\n",
    "using Images, Colors\n",
    "\n",
    "# Import the data from the .mat files\n",
    "data = matread(\"data/ex3data1.mat\")"
   ]
  },
  {
   "cell_type": "code",
   "execution_count": 4,
   "metadata": {
    "collapsed": false
   },
   "outputs": [
    {
     "data": {
      "text/plain": [
       "5000×1 Array{Float64,2}:\n",
       " 10.0\n",
       " 10.0\n",
       " 10.0\n",
       " 10.0\n",
       " 10.0\n",
       " 10.0\n",
       " 10.0\n",
       " 10.0\n",
       " 10.0\n",
       " 10.0\n",
       " 10.0\n",
       " 10.0\n",
       " 10.0\n",
       "  ⋮  \n",
       "  9.0\n",
       "  9.0\n",
       "  9.0\n",
       "  9.0\n",
       "  9.0\n",
       "  9.0\n",
       "  9.0\n",
       "  9.0\n",
       "  9.0\n",
       "  9.0\n",
       "  9.0\n",
       "  9.0"
      ]
     },
     "execution_count": 4,
     "metadata": {},
     "output_type": "execute_result"
    }
   ],
   "source": [
    "images = data[\"X\"]\n",
    "numbers = data[\"y\"]"
   ]
  },
  {
   "cell_type": "code",
   "execution_count": 5,
   "metadata": {
    "collapsed": false
   },
   "outputs": [
    {
     "data": {
      "text/plain": [
       "restore (generic function with 1 method)"
      ]
     },
     "execution_count": 5,
     "metadata": {},
     "output_type": "execute_result"
    }
   ],
   "source": [
    "# Reshape one row of the training example into a square matrix\n",
    "function restore(row::Array{Float64, 1})\n",
    "    width = convert(Int64,sqrt(length(row)))\n",
    "    return reshape(row, width, width)\n",
    "end\n"
   ]
  },
  {
   "cell_type": "code",
   "execution_count": 6,
   "metadata": {
    "collapsed": false
   },
   "outputs": [
    {
     "data": {
      "text/plain": [
       "20×20 Array{Float64,2}:\n",
       " 0.0  0.0  0.0   0.0           0.0          …   0.0          0.0  0.0\n",
       " 0.0  0.0  0.0   0.0           0.0              0.0          0.0  0.0\n",
       " 0.0  0.0  0.0   0.0           0.0              0.0          0.0  0.0\n",
       " 0.0  0.0  0.0   0.0           0.0              0.0          0.0  0.0\n",
       " 0.0  0.0  0.0   0.0           0.0              0.0          0.0  0.0\n",
       " 0.0  0.0  0.0   0.0           0.0          …   6.20939e-18  0.0  0.0\n",
       " 0.0  0.0  0.0   0.0           0.000116422      0.000672618  0.0  0.0\n",
       " 0.0  0.0  0.0   8.5606e-6     0.000120052     -0.0113151    0.0  0.0\n",
       " 0.0  0.0  0.0   1.94036e-6   -0.0140445       -0.0354641    0.0  0.0\n",
       " 0.0  0.0  0.0  -0.000737439  -0.0284542       -0.0388215    0.0  0.0\n",
       " 0.0  0.0  0.0  -0.00813404    0.0803827    …  -0.0371077    0.0  0.0\n",
       " 0.0  0.0  0.0  -0.0186104     0.26654         -0.0133525    0.0  0.0\n",
       " 0.0  0.0  0.0  -0.0187413     0.273854         0.000990965  0.0  0.0\n",
       " 0.0  0.0  0.0  -0.0187573     0.27873          4.89177e-5   0.0  0.0\n",
       " 0.0  0.0  0.0  -0.0190964     0.274294         0.0          0.0  0.0\n",
       " 0.0  0.0  0.0  -0.0164039     0.224676     …   0.0          0.0  0.0\n",
       " 0.0  0.0  0.0  -0.00378191    0.0277563        0.0          0.0  0.0\n",
       " 0.0  0.0  0.0   0.000330347  -0.00706315       0.0          0.0  0.0\n",
       " 0.0  0.0  0.0   1.27655e-5    0.000234715      0.0          0.0  0.0\n",
       " 0.0  0.0  0.0   0.0           0.0              0.0          0.0  0.0"
      ]
     },
     "execution_count": 6,
     "metadata": {},
     "output_type": "execute_result"
    }
   ],
   "source": [
    "img_array = restore(images[1, :])"
   ]
  },
  {
   "cell_type": "code",
   "execution_count": 2,
   "metadata": {
    "collapsed": false
   },
   "outputs": [
    {
     "data": {
      "text/plain": [
       "10×10 Array{Float64,2}:\n",
       "  0.0           0.0           0.000436411  …   0.941862     1.00294  \n",
       "  0.0           1.28336e-17  -0.0039551        0.775148     0.605704 \n",
       "  0.000116422  -0.000326287  -0.0268537        0.873632     0.327299 \n",
       "  0.000120052  -0.0138652     0.100755         0.212778    -0.0322099\n",
       " -0.0140445     0.0815652     0.642032        -0.0172353   -0.0483053\n",
       " -0.0284542     0.3828        1.03137      …   0.0         -0.0434069\n",
       "  0.0803827     0.85785       0.850969         0.00109937  -0.0575151\n",
       "  0.26654       1.0011        0.543122        -0.0261794    0.0955674\n",
       "  0.273854      0.969711      0.3426           0.122873     0.726513 \n",
       "  0.27873       0.930929      0.268919         0.830813     0.695367 "
      ]
     },
     "execution_count": 2,
     "metadata": {},
     "output_type": "execute_result"
    }
   ],
   "source": [
    "image_array = [0.0 0.0 0.000436411 -0.00310607 -0.0323305 0.130533 0.779865 1.02845 0.941862 1.00294; 0.0 1.28336e-17 -0.0039551 0.00752456 0.278203 0.781665 1.03677 1.01648 0.775148 0.605704; 0.000116422 -0.000326287 -0.0268537 0.17754 0.93672 1.02837 0.80449 0.880488 0.873632 0.327299; 0.000120052 -0.0138652 0.100755 0.79289 1.04321 0.757138 0.160587 0.392124 0.212778 -0.0322099; -0.0140445 0.0815652 0.642032 0.965627 0.598003 0.284667 -0.0138173 -0.0174122 -0.0172353 -0.0483053; -0.0284542 0.3828 1.03137 0.463166 -0.00359409 0.00486865 0.00214879 -0.000120098 0.0 -0.0434069; 0.0803827 0.85785 0.850969 0.0691721 -0.0216752 -0.00318689 -0.000212623 5.55215e-5 0.00109937 -0.0575151; 0.26654 1.0011 0.543122 -0.00364101 -0.00481022 0.0 0.000204248 -0.00223907 -0.0261794 0.0955674; 0.273854 0.969711 0.3426 -0.041218 6.16567e-5 0.000836493 -0.00685908 -0.0276068 0.122873 0.726513; 0.27873 0.930929 0.268919 -0.0501901 -0.0123773 -0.0370751 0.000431713 0.368645 0.830813 0.695367]"
   ]
  },
  {
   "cell_type": "code",
   "execution_count": 3,
   "metadata": {
    "collapsed": false
   },
   "outputs": [
    {
     "data": {
      "text/plain": [
       "10×10 Array{Float64,2}:\n",
       " 0.0          0.0          0.000436411  …  1.0         0.941862    1.0      \n",
       " 0.0          1.28336e-17  0.0             1.0         0.775148    0.605704 \n",
       " 0.000116422  0.0          0.0             0.880488    0.873632    0.327299 \n",
       " 0.000120052  0.0          0.100755        0.392124    0.212778    0.0      \n",
       " 0.0          0.0815652    0.642032        0.0         0.0         0.0      \n",
       " 0.0          0.3828       1.0          …  0.0         0.0         0.0      \n",
       " 0.0803827    0.85785      0.850969        5.55215e-5  0.00109937  0.0      \n",
       " 0.26654      1.0          0.543122        0.0         0.0         0.0955674\n",
       " 0.273854     0.969711     0.3426          0.0         0.122873    0.726513 \n",
       " 0.27873      0.930929     0.268919        0.368645    0.830813    0.695367 "
      ]
     },
     "execution_count": 3,
     "metadata": {},
     "output_type": "execute_result"
    }
   ],
   "source": [
    "new_array = clamp01nan.(image_array)"
   ]
  },
  {
   "cell_type": "code",
   "execution_count": 4,
   "metadata": {
    "collapsed": false,
    "scrolled": true
   },
   "outputs": [
    {
     "data": {
      "image/png": "[encoded data removed]",
      "text/plain": [
       "10×10 Array{Gray{Float64},2}:\n",
       " Gray{Float64}(0.0)          …  Gray{Float64}(1.0)      \n",
       " Gray{Float64}(0.0)             Gray{Float64}(0.605704) \n",
       " Gray{Float64}(0.000116422)     Gray{Float64}(0.327299) \n",
       " Gray{Float64}(0.000120052)     Gray{Float64}(0.0)      \n",
       " Gray{Float64}(0.0)             Gray{Float64}(0.0)      \n",
       " Gray{Float64}(0.0)          …  Gray{Float64}(0.0)      \n",
       " Gray{Float64}(0.0803827)       Gray{Float64}(0.0)      \n",
       " Gray{Float64}(0.26654)         Gray{Float64}(0.0955674)\n",
       " Gray{Float64}(0.273854)        Gray{Float64}(0.726513) \n",
       " Gray{Float64}(0.27873)         Gray{Float64}(0.695367) "
      ]
     },
     "execution_count": 4,
     "metadata": {},
     "output_type": "execute_result"
    }
   ],
   "source": [
    "img = colorview(Gray, new_array)"
   ]
  },
  {
   "cell_type": "code",
   "execution_count": 5,
   "metadata": {
    "collapsed": false
   },
   "outputs": [
    {
     "name": "stderr",
     "output_type": "stream",
     "text": [
      "\u001b[1m\u001b[31mWARNING: grayim is deprecated, please use colorview(Gray, A), possibly in conjunction with ufixedview\u001b[0m\n",
      " in depwarn(::String, ::Symbol) at ./deprecated.jl:64\n",
      " in grayim(::Array{Float64,2}) at /Users/JayWong/.julia/v0.5/ImageCore/src/deprecated.jl:6\n",
      " in include_string(::String, ::String) at ./loading.jl:441\n",
      " in execute_request(::ZMQ.Socket, ::IJulia.Msg) at /Users/JayWong/.julia/v0.5/IJulia/src/execute_request.jl:175\n",
      " in eventloop(::ZMQ.Socket) at /Users/JayWong/.julia/v0.5/IJulia/src/eventloop.jl:8\n",
      " in (::IJulia.##13#19)() at ./task.jl:360\n",
      "while loading In[5], in expression starting on line 1\n"
     ]
    },
    {
     "data": {
      "image/png": "[encoded data removed]",
      "text/plain": [
       "10×10 Array{Gray{Float64},2}:\n",
       " Gray{Float64}(0.0)          …  Gray{Float64}(1.00294)   \n",
       " Gray{Float64}(0.0)             Gray{Float64}(0.605704)  \n",
       " Gray{Float64}(0.000116422)     Gray{Float64}(0.327299)  \n",
       " Gray{Float64}(0.000120052)     Gray{Float64}(-0.0322099)\n",
       " Gray{Float64}(-0.0140445)      Gray{Float64}(-0.0483053)\n",
       " Gray{Float64}(-0.0284542)   …  Gray{Float64}(-0.0434069)\n",
       " Gray{Float64}(0.0803827)       Gray{Float64}(-0.0575151)\n",
       " Gray{Float64}(0.26654)         Gray{Float64}(0.0955674) \n",
       " Gray{Float64}(0.273854)        Gray{Float64}(0.726513)  \n",
       " Gray{Float64}(0.27873)         Gray{Float64}(0.695367)  "
      ]
     },
     "execution_count": 5,
     "metadata": {},
     "output_type": "execute_result"
    }
   ],
   "source": [
    "img = grayim(image_array)"
   ]
  },
  {
   "cell_type": "code",
   "execution_count": 4,
   "metadata": {
    "collapsed": false,
    "scrolled": false
   },
   "outputs": [
    {
     "name": "stderr",
     "output_type": "stream",
     "text": [
      "\u001b[1m\u001b[34mINFO: Computing test dependencies for ImageMagick...\n",
      "\u001b[0m\u001b[1m\u001b[34mINFO: Installing ZipFile v0.3.0\n",
      "\u001b[0m\u001b[1m\u001b[34mINFO: Testing ImageMagick\n",
      "\u001b[0m"
     ]
    },
    {
     "name": "stdout",
     "output_type": "stream",
     "text": [
      "\u001b[1m\u001b[37mBinary png: \u001b[0m\u001b[1m\u001b[31mError During Test\n",
      "\u001b[0m  Got an exception of type ErrorException outside of a @test\n",
      "  image coder signature mismatch `MIFF':      310 !=      210 @ error/module.c/OpenModule/1344\n",
      "   in error(::ImageMagick.MagickWand) at /Users/JayWong/.julia/v0.5/ImageMagick/src/libmagickwand.jl:168\n",
      "   in writeimage(::ImageMagick.MagickWand, ::String) at /Users/JayWong/.julia/v0.5/ImageMagick/src/libmagickwand.jl:265\n",
      "   in save_(::String, ::Array{Bool,2}) at /Users/JayWong/.julia/v0.5/ImageMagick/src/ImageMagick.jl:141\n",
      "   in #save#16(::Array{Any,1}, ::Function, ::String, ::Array{Bool,2}, ::Vararg{Array{Bool,2},N}) at /Users/JayWong/.julia/v0.5/ImageMagick/src/ImageMagick.jl:71\n",
      "   in macro expansion; at /Users/JayWong/.julia/v0.5/ImageMagick/test/constructed_images.jl:16 [inlined]\n",
      "   in macro expansion; at ./test.jl:672 [inlined]\n",
      "   in macro expansion; at /Users/JayWong/.julia/v0.5/ImageMagick/test/constructed_images.jl:13 [inlined]\n",
      "   in macro expansion; at ./test.jl:672 [inlined]\n",
      "   in anonymous at ./<missing>:?\n",
      "   in include_from_node1(::String) at ./loading.jl:488\n",
      "   in include_from_node1(::String) at /Applications/Julia-0.5.app/Contents/Resources/julia/lib/julia/sys.dylib:?\n",
      "   in include_from_node1(::String) at ./loading.jl:488\n",
      "   in include_from_node1(::String) at /Applications/Julia-0.5.app/Contents/Resources/julia/lib/julia/sys.dylib:?\n",
      "   in process_options(::Base.JLOptions) at ./client.jl:262\n",
      "   in _start() at ./client.jl:318\n",
      "   in _start() at /Applications/Julia-0.5.app/Contents/Resources/julia/lib/julia/sys.dylib:?\n",
      "\u001b[1m\u001b[37mGray png: \u001b[0m\u001b[1m\u001b[31mError During Test\n",
      "\u001b[0m  Got an exception of type ErrorException outside of a @test\n",
      "  no encode delegate for this image format `MIFF' @ error/constitute.c/WriteImage/1171\n",
      "   in error(::ImageMagick.MagickWand) at /Users/JayWong/.julia/v0.5/ImageMagick/src/libmagickwand.jl:168\n",
      "   in writeimage(::ImageMagick.MagickWand, ::String) at /Users/JayWong/.julia/v0.5/ImageMagick/src/libmagickwand.jl:265\n",
      "   in save_(::String, ::Array{Float64,2}) at /Users/JayWong/.julia/v0.5/ImageMagick/src/ImageMagick.jl:141\n",
      "   in #save#16(::Array{Any,1}, ::Function, ::String, ::Array{Float64,2}, ::Vararg{Array{Float64,2},N}) at /Users/JayWong/.julia/v0.5/ImageMagick/src/ImageMagick.jl:71\n",
      "   in macro expansion; at /Users/JayWong/.julia/v0.5/ImageMagick/test/constructed_images.jl:40 [inlined]\n",
      "   in macro expansion; at ./test.jl:672 [inlined]\n",
      "   in macro expansion; at /Users/JayWong/.julia/v0.5/ImageMagick/test/constructed_images.jl:36 [inlined]\n",
      "   in macro expansion; at ./test.jl:672 [inlined]\n",
      "   in anonymous at ./<missing>:?\n",
      "   in include_from_node1(::String) at ./loading.jl:488\n",
      "   in include_from_node1(::String) at /Applications/Julia-0.5.app/Contents/Resources/julia/lib/julia/sys.dylib:?\n",
      "   in include_from_node1(::String) at ./loading.jl:488\n",
      "   in include_from_node1(::String) at /Applications/Julia-0.5.app/Contents/Resources/julia/lib/julia/sys.dylib:?\n",
      "   in process_options(::Base.JLOptions) at ./client.jl:262\n",
      "   in _start() at ./client.jl:318\n",
      "   in _start() at /Applications/Julia-0.5.app/Contents/Resources/julia/lib/julia/sys.dylib:?\n",
      "\u001b[1m\u001b[37mColor: \u001b[0m\u001b[1m\u001b[31mError During Test\n",
      "\u001b[0m  Got an exception of type ErrorException outside of a @test\n",
      "  no encode delegate for this image format `MIFF' @ error/constitute.c/WriteImage/1171\n",
      "   in error(::ImageMagick.MagickWand) at /Users/JayWong/.julia/v0.5/ImageMagick/src/libmagickwand.jl:168\n",
      "   in writeimage(::ImageMagick.MagickWand, ::String) at /Users/JayWong/.julia/v0.5/ImageMagick/src/libmagickwand.jl:265\n",
      "   in save_(::String, ::Array{ColorTypes.RGB24,2}) at /Users/JayWong/.julia/v0.5/ImageMagick/src/ImageMagick.jl:141\n",
      "   in #save#16(::Array{Any,1}, ::Function, ::String, ::Array{ColorTypes.RGB24,2}, ::Vararg{Array{ColorTypes.RGB24,2},N}) at /Users/JayWong/.julia/v0.5/ImageMagick/src/ImageMagick.jl:71\n",
      "   in macro expansion; at /Users/JayWong/.julia/v0.5/ImageMagick/test/constructed_images.jl:68 [inlined]\n",
      "   in macro expansion; at ./test.jl:672 [inlined]\n",
      "   in macro expansion; at /Users/JayWong/.julia/v0.5/ImageMagick/test/constructed_images.jl:62 [inlined]\n",
      "   in macro expansion; at ./test.jl:672 [inlined]\n",
      "   in anonymous at ./<missing>:?\n",
      "   in include_from_node1(::String) at ./loading.jl:488\n",
      "   in include_from_node1(::String) at /Applications/Julia-0.5.app/Contents/Resources/julia/lib/julia/sys.dylib:?\n",
      "   in include_from_node1(::String) at ./loading.jl:488\n",
      "   in include_from_node1(::String) at /Applications/Julia-0.5.app/Contents/Resources/julia/lib/julia/sys.dylib:?\n",
      "   in process_options(::Base.JLOptions) at ./client.jl:262\n",
      "   in _start() at ./client.jl:318\n",
      "   in _start() at /Applications/Julia-0.5.app/Contents/Resources/julia/lib/julia/sys.dylib:?\n",
      "\u001b[1m\u001b[37mColormap usage: \u001b[0m\u001b[1m\u001b[31mError During Test\n",
      "\u001b[0m  Got an exception of type ErrorException outside of a @test\n",
      "  no encode delegate for this image format `MIFF' @ error/constitute.c/WriteImage/1171\n",
      "   in error(::ImageMagick.MagickWand) at /Users/JayWong/.julia/v0.5/ImageMagick/src/libmagickwand.jl:168\n",
      "   in writeimage(::ImageMagick.MagickWand, ::String) at /Users/JayWong/.julia/v0.5/ImageMagick/src/libmagickwand.jl:265\n",
      "   in save_(::String, ::IndirectArrays.IndirectArray{ColorTypes.RGB{Float64},2,UInt8}) at /Users/JayWong/.julia/v0.5/ImageMagick/src/ImageMagick.jl:141\n",
      "   in #save#16(::Array{Any,1}, ::Function, ::String, ::IndirectArrays.IndirectArray{ColorTypes.RGB{Float64},2,UInt8}, ::Vararg{IndirectArrays.IndirectArray{ColorTypes.RGB{Float64},2,UInt8},N}) at /Users/JayWong/.julia/v0.5/ImageMagick/src/ImageMagick.jl:71\n",
      "   in macro expansion; at /Users/JayWong/.julia/v0.5/ImageMagick/test/constructed_images.jl:92 [inlined]\n",
      "   in macro expansion; at ./test.jl:672 [inlined]\n",
      "   in macro expansion; at /Users/JayWong/.julia/v0.5/ImageMagick/test/constructed_images.jl:80 [inlined]\n",
      "   in macro expansion; at ./test.jl:672 [inlined]\n",
      "   in anonymous at ./<missing>:?\n",
      "   in include_from_node1(::String) at ./loading.jl:488\n",
      "   in include_from_node1(::String) at /Applications/Julia-0.5.app/Contents/Resources/julia/lib/julia/sys.dylib:?\n",
      "   in include_from_node1(::String) at ./loading.jl:488\n",
      "   in include_from_node1(::String) at /Applications/Julia-0.5.app/Contents/Resources/julia/lib/julia/sys.dylib:?\n",
      "   in process_options(::Base.JLOptions) at ./client.jl:262\n",
      "   in _start() at ./client.jl:318\n",
      "   in _start() at /Applications/Julia-0.5.app/Contents/Resources/julia/lib/julia/sys.dylib:?\n",
      "\u001b[1m\u001b[37mAlpha: \u001b[0m\u001b[1m\u001b[31mError During Test\n",
      "\u001b[0m  Got an exception of type ErrorException outside of a @test\n",
      "  no encode delegate for this image format `MIFF' @ error/constitute.c/WriteImage/1171\n",
      "   in error(::ImageMagick.MagickWand) at /Users/JayWong/.julia/v0.5/ImageMagick/src/libmagickwand.jl:168\n",
      "   in writeimage(::ImageMagick.MagickWand, ::String) at /Users/JayWong/.julia/v0.5/ImageMagick/src/libmagickwand.jl:265\n",
      "   in save_(::String, ::Array{ColorTypes.BGRA{FixedPointNumbers.UFixed{UInt8,8}},1}) at /Users/JayWong/.julia/v0.5/ImageMagick/src/ImageMagick.jl:141\n",
      "   in #save#16(::Array{Any,1}, ::Function, ::String, ::Array{ColorTypes.BGRA{FixedPointNumbers.UFixed{UInt8,8}},1}, ::Vararg{Array{ColorTypes.BGRA{FixedPointNumbers.UFixed{UInt8,8}},1},N}) at /Users/JayWong/.julia/v0.5/ImageMagick/src/ImageMagick.jl:71\n",
      "   in macro expansion; at /Users/JayWong/.julia/v0.5/ImageMagick/test/constructed_images.jl:103 [inlined]\n",
      "   in macro expansion; at ./test.jl:672 [inlined]\n",
      "   in macro expansion; at /Users/JayWong/.julia/v0.5/ImageMagick/test/constructed_images.jl:100 [inlined]\n",
      "   in macro expansion; at ./test.jl:672 [inlined]\n",
      "   in anonymous at ./<missing>:?\n",
      "   in include_from_node1(::String) at ./loading.jl:488\n",
      "   in include_from_node1(::String) at /Applications/Julia-0.5.app/Contents/Resources/julia/lib/julia/sys.dylib:?\n",
      "   in include_from_node1(::String) at ./loading.jl:488\n",
      "   in include_from_node1(::String) at /Applications/Julia-0.5.app/Contents/Resources/julia/lib/julia/sys.dylib:?\n",
      "   in process_options(::Base.JLOptions) at ./client.jl:262\n",
      "   in _start() at ./client.jl:318\n",
      "   in _start() at /Applications/Julia-0.5.app/Contents/Resources/julia/lib/julia/sys.dylib:?\n",
      "\u001b[1m\u001b[37m3D TIFF (issue #307): \u001b[0m\u001b[1m\u001b[31mError During Test\n",
      "\u001b[0m  Got an exception of type ErrorException outside of a @test\n",
      "  no encode delegate for this image format `MIFF' @ error/constitute.c/WriteImage/1171\n",
      "   in error(::ImageMagick.MagickWand) at /Users/JayWong/.julia/v0.5/ImageMagick/src/libmagickwand.jl:168\n",
      "   in writeimage(::ImageMagick.MagickWand, ::String) at /Users/JayWong/.julia/v0.5/ImageMagick/src/libmagickwand.jl:265\n",
      "   in save_(::String, ::Array{ColorTypes.Gray{FixedPointNumbers.UFixed{UInt8,8}},3}) at /Users/JayWong/.julia/v0.5/ImageMagick/src/ImageMagick.jl:141\n",
      "   in #save#16(::Array{Any,1}, ::Function, ::String, ::Array{ColorTypes.Gray{FixedPointNumbers.UFixed{UInt8,8}},3}, ::Vararg{Array{ColorTypes.Gray{FixedPointNumbers.UFixed{UInt8,8}},3},N}) at /Users/JayWong/.julia/v0.5/ImageMagick/src/ImageMagick.jl:71\n",
      "   in macro expansion; at /Users/JayWong/.julia/v0.5/ImageMagick/test/constructed_images.jl:128 [inlined]\n",
      "   in macro expansion; at ./test.jl:672 [inlined]\n",
      "   in macro expansion; at /Users/JayWong/.julia/v0.5/ImageMagick/test/constructed_images.jl:123 [inlined]\n",
      "   in macro expansion; at ./test.jl:672 [inlined]\n",
      "   in anonymous at ./<missing>:?\n",
      "   in include_from_node1(::String) at ./loading.jl:488\n",
      "   in include_from_node1(::String) at /Applications/Julia-0.5.app/Contents/Resources/julia/lib/julia/sys.dylib:?\n",
      "   in include_from_node1(::String) at ./loading.jl:488\n",
      "   in include_from_node1(::String) at /Applications/Julia-0.5.app/Contents/Resources/julia/lib/julia/sys.dylib:?\n",
      "   in process_options(::Base.JLOptions) at ./client.jl:262\n",
      "   in _start() at ./client.jl:318\n",
      "   in _start() at /Applications/Julia-0.5.app/Contents/Resources/julia/lib/julia/sys.dylib:?\n",
      "\u001b[1m\u001b[37mClamping (issue #256): \u001b[0m\u001b[1m\u001b[31mError During Test\n",
      "\u001b[0m  Got an exception of type ErrorException outside of a @test\n",
      "  no encode delegate for this image format `MIFF' @ error/constitute.c/WriteImage/1171\n",
      "   in error(::ImageMagick.MagickWand) at /Users/JayWong/.julia/v0.5/ImageMagick/src/libmagickwand.jl:168\n",
      "   in writeimage(::ImageMagick.MagickWand, ::String) at /Users/JayWong/.julia/v0.5/ImageMagick/src/libmagickwand.jl:265\n",
      "   in (::ImageMagick.#kw##save_)(::Array{Any,1}, ::ImageMagick.#save_, ::String, ::Array{ColorTypes.Gray{Float64},2}, ::Bool) at ./<missing>:0 (repeats 2 times)\n",
      "   in #save#16(::Array{Any,1}, ::Function, ::String, ::Array{ColorTypes.Gray{Float64},2}, ::Vararg{Array{ColorTypes.Gray{Float64},2},N}) at /Users/JayWong/.julia/v0.5/ImageMagick/src/ImageMagick.jl:71\n",
      "   in (::ImageMagick.#kw##save)(::Array{Any,1}, ::ImageMagick.#save, ::String, ::Array{ColorTypes.Gray{Float64},2}, ::Vararg{Array{ColorTypes.Gray{Float64},2},N}) at ./<missing>:0\n",
      "   in macro expansion; at /Users/JayWong/.julia/v0.5/ImageMagick/test/constructed_images.jl:146 [inlined]\n",
      "   in macro expansion; at ./test.jl:672 [inlined]\n",
      "   in macro expansion; at /Users/JayWong/.julia/v0.5/ImageMagick/test/constructed_images.jl:134 [inlined]\n",
      "   in macro expansion; at ./test.jl:672 [inlined]\n",
      "   in anonymous at ./<missing>:?\n",
      "   in include_from_node1(::String) at ./loading.jl:488\n",
      "   in include_from_node1(::String) at /Applications/Julia-0.5.app/Contents/Resources/julia/lib/julia/sys.dylib:?\n",
      "   in include_from_node1(::String) at ./loading.jl:488\n",
      "   in include_from_node1(::String) at /Applications/Julia-0.5.app/Contents/Resources/julia/lib/julia/sys.dylib:?\n",
      "   in process_options(::Base.JLOptions) at ./client.jl:262\n",
      "   in _start() at ./client.jl:318\n",
      "   in _start() at /Applications/Julia-0.5.app/Contents/Resources/julia/lib/julia/sys.dylib:?\n",
      "\u001b[1m\u001b[37mReading from a stream (issue #312): \u001b[0m\u001b[1m\u001b[31mError During Test\n",
      "\u001b[0m  Got an exception of type SystemError outside of a @test\n",
      "  SystemError: opening file /var/folders/_9/_6s4vjt10b14g21bmb_n07lh0000gn/T/Images/2by2.png: No such file or directory\n",
      "   in #systemerror#51 at ./error.jl:34 [inlined]\n",
      "   in systemerror(::String, ::Bool) at ./error.jl:34\n",
      "   in open(::String, ::Bool, ::Bool, ::Bool, ::Bool, ::Bool) at ./iostream.jl:89\n",
      "   in open(::##9#22, ::String) at ./iostream.jl:111\n",
      "   in macro expansion; at /Users/JayWong/.julia/v0.5/ImageMagick/test/constructed_images.jl:154 [inlined]\n",
      "   in macro expansion; at ./test.jl:672 [inlined]\n",
      "   in macro expansion; at /Users/JayWong/.julia/v0.5/ImageMagick/test/constructed_images.jl:152 [inlined]\n",
      "   in macro expansion; at ./test.jl:672 [inlined]\n",
      "   in anonymous at ./<missing>:?\n",
      "   in include_from_node1(::String) at ./loading.jl:488\n",
      "   in include_from_node1(::String) at /Applications/Julia-0.5.app/Contents/Resources/julia/lib/julia/sys.dylib:?\n",
      "   in include_from_node1(::String) at ./loading.jl:488\n",
      "   in include_from_node1(::String) at /Applications/Julia-0.5.app/Contents/Resources/julia/lib/julia/sys.dylib:?\n",
      "   in process_options(::Base.JLOptions) at ./client.jl:262\n",
      "   in _start() at ./client.jl:318\n",
      "   in _start() at /Applications/Julia-0.5.app/Contents/Resources/julia/lib/julia/sys.dylib:?\n",
      "\u001b[1m\u001b[37mWriting to a stream (PR #22): \u001b[0m\u001b[1m\u001b[31mError During Test\n",
      "\u001b[0m  Got an exception of type ErrorException outside of a @test\n",
      "  unable to open image `/var/folders/_9/_6s4vjt10b14g21bmb_n07lh0000gn/T/Images/2by2.png': No such file or directory @ error/blob.c/OpenBlob/2705\n",
      "   in error(::ImageMagick.MagickWand) at /Users/JayWong/.julia/v0.5/ImageMagick/src/libmagickwand.jl:168\n",
      "   in readimage(::ImageMagick.MagickWand, ::String) at /Users/JayWong/.julia/v0.5/ImageMagick/src/libmagickwand.jl:247\n",
      "   in #load_#20(::Type{T}, ::String, ::Void, ::Function, ::String) at /Users/JayWong/.julia/v0.5/ImageMagick/src/ImageMagick.jl:89\n",
      "   in #load#14(::Array{Any,1}, ::Function, ::String) at /Users/JayWong/.julia/v0.5/ImageMagick/src/ImageMagick.jl:69\n",
      "   in macro expansion; at /Users/JayWong/.julia/v0.5/ImageMagick/test/constructed_images.jl:161 [inlined]\n",
      "   in macro expansion; at ./test.jl:672 [inlined]\n",
      "   in macro expansion; at /Users/JayWong/.julia/v0.5/ImageMagick/test/constructed_images.jl:160 [inlined]\n",
      "   in macro expansion; at ./test.jl:672 [inlined]\n",
      "   in anonymous at ./<missing>:?\n",
      "   in include_from_node1(::String) at ./loading.jl:488\n",
      "   in include_from_node1(::String) at /Applications/Julia-0.5.app/Contents/Resources/julia/lib/julia/sys.dylib:?\n",
      "   in include_from_node1(::String) at ./loading.jl:488\n",
      "   in include_from_node1(::String) at /Applications/Julia-0.5.app/Contents/Resources/julia/lib/julia/sys.dylib:?\n",
      "   in process_options(::Base.JLOptions) at ./client.jl:262\n",
      "   in _start() at ./client.jl:318\n",
      "   in _start() at /Applications/Julia-0.5.app/Contents/Resources/julia/lib/julia/sys.dylib:?\n",
      "\u001b[1m\u001b[37mReading from a byte array (issue #279): \u001b[0m\u001b[1m\u001b[31mError During Test\n",
      "\u001b[0m  Got an exception of type SystemError outside of a @test\n",
      "  SystemError: opening file /var/folders/_9/_6s4vjt10b14g21bmb_n07lh0000gn/T/Images/2by2.png: No such file or directory\n",
      "   in #systemerror#51 at ./error.jl:34 [inlined]\n",
      "   in systemerror(::String, ::Bool) at ./error.jl:34\n",
      "   in open(::String, ::Bool, ::Bool, ::Bool, ::Bool, ::Bool) at ./iostream.jl:89\n",
      "   in macro expansion; at /Users/JayWong/.julia/v0.5/ImageMagick/test/constructed_images.jl:172 [inlined]\n",
      "   in macro expansion; at ./test.jl:672 [inlined]\n",
      "   in macro expansion; at /Users/JayWong/.julia/v0.5/ImageMagick/test/constructed_images.jl:170 [inlined]\n",
      "   in macro expansion; at ./test.jl:672 [inlined]\n",
      "   in anonymous at ./<missing>:?\n",
      "   in include_from_node1(::String) at ./loading.jl:488\n",
      "   in include_from_node1(::String) at /Applications/Julia-0.5.app/Contents/Resources/julia/lib/julia/sys.dylib:?\n",
      "   in include_from_node1(::String) at ./loading.jl:488\n",
      "   in include_from_node1(::String) at /Applications/Julia-0.5.app/Contents/Resources/julia/lib/julia/sys.dylib:?\n",
      "   in process_options(::Base.JLOptions) at ./client.jl:262\n",
      "   in _start() at ./client.jl:318\n",
      "   in _start() at /Applications/Julia-0.5.app/Contents/Resources/julia/lib/julia/sys.dylib:?\n",
      "Errors encountered while saving \"Nullable{String}()\".\n",
      "All errors:\n",
      "   FileIO.NotInstalledError(:QuartzImageIO,\"\")\n",
      "   ErrorException(\"\")\n",
      "Fatal error:\n",
      "Library \"QuartzImageIO\" is not installed but is recommended as a library to load format: \"Nullable{String}()\"\n",
      "\u001b[1m\u001b[37mshow(MIME): \u001b[0m\u001b[1m\u001b[31mError During Test\n",
      "\u001b[0m  Got an exception of type FileIO.NotInstalledError outside of a @test\n",
      "  QuartzImageIO is not installed.\n",
      "  \n",
      "   in error(::ImageMagick.MagickWand) at /Users/JayWong/.julia/v0.5/ImageMagick/src/libmagickwand.jl:168\n",
      "   in setimageformat(::ImageMagick.MagickWand, ::String) at /Users/JayWong/.julia/v0.5/ImageMagick/src/libmagickwand.jl:372\n",
      "   in getblob(::ImageMagick.MagickWand, ::String) at /Users/JayWong/.julia/v0.5/ImageMagick/src/libmagickwand.jl:231\n",
      "   in #save_#22 at /Users/JayWong/.julia/v0.5/ImageMagick/src/ImageMagick.jl:149 [inlined]\n",
      "   in (::ImageMagick.#kw##save_)(::Array{Any,1}, ::ImageMagick.#save_, ::FileIO.Stream{FileIO.DataFormat{:PNG},IOStream}, ::Array{ColorTypes.RGB{FixedPointNumbers.UFixed{UInt8,8}},2}, ::Bool) at ./<missing>:0 (repeats 2 times)\n",
      "   in #save#19(::Array{Any,1}, ::Function, ::FileIO.Stream{FileIO.DataFormat{:PNG},IOStream}, ::Array{ColorTypes.RGB{FixedPointNumbers.UFixed{UInt8,8}},2}, ::Vararg{Array{ColorTypes.RGB{FixedPointNumbers.UFixed{UInt8,8}},2},N}) at /Users/JayWong/.julia/v0.5/ImageMagick/src/ImageMagick.jl:75\n",
      "   in (::ImageMagick.#kw##save)(::Array{Any,1}, ::ImageMagick.#save, ::FileIO.Stream{FileIO.DataFormat{:PNG},IOStream}, ::Array{ColorTypes.RGB{FixedPointNumbers.UFixed{UInt8,8}},2}, ::Vararg{Array{ColorTypes.RGB{FixedPointNumbers.UFixed{UInt8,8}},2},N}) at ./<missing>:0\n",
      "   in #save#18(::Array{Any,1}, ::Function, ::FileIO.Stream{FileIO.DataFormat{:PNG},IOStream}, ::Array{ColorTypes.RGB{FixedPointNumbers.UFixed{UInt8,8}},2}, ::Vararg{Array{ColorTypes.RGB{FixedPointNumbers.UFixed{UInt8,8}},2},N}) at /Users/JayWong/.julia/v0.5/FileIO/src/loadsave.jl:102\n",
      "   in (::FileIO.#kw##save)(::Array{Any,1}, ::FileIO.#save, ::FileIO.Stream{FileIO.DataFormat{:PNG},IOStream}, ::Array{ColorTypes.RGB{FixedPointNumbers.UFixed{UInt8,8}},2}) at ./<missing>:0\n",
      "   in #show#83(::Function, ::Int64, ::Int64, ::Function, ::IOStream, ::MIME{Symbol(\"image/png\")}, ::Array{ColorTypes.RGB{FixedPointNumbers.UFixed{UInt8,8}},2}) at /Users/JayWong/.julia/v0.5/Images/src/showmime.jl:31\n",
      "   in (::Base.#kw##show)(::Array{Any,1}, ::Base.#show, ::IOStream, ::MIME{Symbol(\"image/png\")}, ::Array{ColorTypes.RGB{FixedPointNumbers.UFixed{UInt8,8}},2}) at ./<missing>:0\n",
      "   in open(::##11#24, ::String, ::String) at ./iostream.jl:113\n",
      "   in macro expansion; at /Users/JayWong/.julia/v0.5/ImageMagick/test/constructed_images.jl:184 [inlined]\n",
      "   in macro expansion; at ./test.jl:672 [inlined]\n",
      "   in macro expansion; at /Users/JayWong/.julia/v0.5/ImageMagick/test/constructed_images.jl:179 [inlined]\n",
      "   in macro expansion; at ./test.jl:672 [inlined]\n",
      "   in anonymous at ./<missing>:?\n",
      "   in include_from_node1(::String) at ./loading.jl:488\n",
      "   in include_from_node1(::String) at /Applications/Julia-0.5.app/Contents/Resources/julia/lib/julia/sys.dylib:?\n",
      "   in include_from_node1(::String) at ./loading.jl:488\n",
      "   in include_from_node1(::String) at /Applications/Julia-0.5.app/Contents/Resources/julia/lib/julia/sys.dylib:?\n",
      "   in process_options(::Base.JLOptions) at ./client.jl:262\n",
      "   in _start() at ./client.jl:318\n",
      "   in _start() at /Applications/Julia-0.5.app/Contents/Resources/julia/lib/julia/sys.dylib:?\n",
      "\u001b[1m\u001b[37mTest Summary:                            | \u001b[0m\u001b[1m\u001b[32mPass  \u001b[0m\u001b[1m\u001b[31mError  \u001b[0m\u001b[1m\u001b[34mTotal\u001b[0m\n",
      "  IO                                     | \u001b[1m\u001b[32m   2  \u001b[0m\u001b[1m\u001b[31m   11  \u001b[0m\u001b[1m\u001b[34m   13\u001b[0m\n",
      "  Binary png                             |       \u001b[1m\u001b[31m    1  \u001b[0m\u001b[1m\u001b[34m    1\u001b[0m\n",
      "  Gray png                               |       \u001b[1m\u001b[31m    1  \u001b[0m\u001b[1m\u001b[34m    1\u001b[0m\n",
      "  Color                                  |       \u001b[1m\u001b[31m    1  \u001b[0m\u001b[1m\u001b[34m    1\u001b[0m\n",
      "  Colormap usage                         |       \u001b[1m\u001b[31m    1  \u001b[0m\u001b[1m\u001b[34m    1\u001b[0m\n",
      "  Alpha                                  |       \u001b[1m\u001b[31m    1  \u001b[0m\u001b[1m\u001b[34m    1\u001b[0m\n",
      "  3D TIFF (issue #307)                   |       \u001b[1m\u001b[31m    1  \u001b[0m\u001b[1m\u001b[34m    1\u001b[0m\n",
      "  Clamping (issue #256)                  | \u001b[1m\u001b[32m   2  \u001b[0m\u001b[1m\u001b[31m    1  \u001b[0m\u001b[1m\u001b[34m    3\u001b[0m\n",
      "  Reading from a stream (issue #312)     |       \u001b[1m\u001b[31m    1  \u001b[0m\u001b[1m\u001b[34m    1\u001b[0m\n",
      "  Writing to a stream (PR #22)           |       \u001b[1m\u001b[31m    1  \u001b[0m\u001b[1m\u001b[34m    1\u001b[0m\n",
      "  Reading from a byte array (issue #279) |       \u001b[1m\u001b[31m    1  \u001b[0m\u001b[1m\u001b[34m    1\u001b[0m\n",
      "  show(MIME)                             |       \u001b[1m\u001b[31m    1  \u001b[0m\u001b[1m\u001b[34m    1\u001b[0m\n"
     ]
    },
    {
     "name": "stderr",
     "output_type": "stream",
     "text": [
      "\u001b[1m\u001b[31mERROR: LoadError: LoadError: Some tests did not pass: 2 passed, 0 failed, 11 errored, 0 broken.\n",
      " in finish(::Base.Test.DefaultTestSet) at ./test.jl:495\n",
      " in macro expansion; at ./test.jl:679 [inlined]\n",
      " in anonymous at ./<missing>:?\n",
      " in include_from_node1(::String) at ./loading.jl:488\n",
      " in include_from_node1(::String) at /Applications/Julia-0.5.app/Contents/Resources/julia/lib/julia/sys.dylib:?\n",
      " in include_from_node1(::String) at ./loading.jl:488\n",
      " in include_from_node1(::String) at /Applications/Julia-0.5.app/Contents/Resources/julia/lib/julia/sys.dylib:?\n",
      " in process_options(::Base.JLOptions) at ./client.jl:262\n",
      " in _start() at ./client.jl:318\n",
      " in _start() at /Applications/Julia-0.5.app/Contents/Resources/julia/lib/julia/sys.dylib:?\n",
      "while loading /Users/JayWong/.julia/v0.5/ImageMagick/test/constructed_images.jl, in expression starting on line 8\n",
      "while loading /Users/JayWong/.julia/v0.5/ImageMagick/test/runtests.jl, in expression starting on line 1\n",
      "\u001b[0m\u001b[1m\u001b[31m=============================[ ERROR: ImageMagick ]=============================\u001b[0m\n",
      "\n",
      "\u001b[1m\u001b[31mfailed process: Process(`/Applications/Julia-0.5.app/Contents/Resources/julia/bin/julia -Ccore2 -J/Applications/Julia-0.5.app/Contents/Resources/julia/lib/julia/sys.dylib --compile=yes --depwarn=yes --check-bounds=yes --code-coverage=none --color=yes --compilecache=yes /Users/JayWong/.julia/v0.5/ImageMagick/test/runtests.jl`, ProcessExited(1)) [1]\u001b[0m\n",
      "\n",
      "\u001b[1m\u001b[31m================================================================================\u001b[0m\n",
      "\u001b[1m\u001b[34mINFO: Removing ZipFile v0.3.0\n",
      "\u001b[0m"
     ]
    },
    {
     "ename": "LoadError",
     "evalue": "ImageMagick had test errors",
     "output_type": "error",
     "traceback": [
      "ImageMagick had test errors",
      "",
      " in #test#61(::Bool, ::Function, ::Array{AbstractString,1}) at ./pkg/entry.jl:740",
      " in (::Base.Pkg.Entry.#kw##test)(::Array{Any,1}, ::Base.Pkg.Entry.#test, ::Array{AbstractString,1}) at ./<missing>:0",
      " in (::Base.Pkg.Dir.##2#3{Array{Any,1},Base.Pkg.Entry.#test,Tuple{Array{AbstractString,1}}})() at ./pkg/dir.jl:31",
      " in cd(::Base.Pkg.Dir.##2#3{Array{Any,1},Base.Pkg.Entry.#test,Tuple{Array{AbstractString,1}}}, ::String) at ./file.jl:59",
      " in #cd#1(::Array{Any,1}, ::Function, ::Function, ::Array{AbstractString,1}, ::Vararg{Array{AbstractString,1},N}) at ./pkg/dir.jl:31",
      " in (::Base.Pkg.Dir.#kw##cd)(::Array{Any,1}, ::Base.Pkg.Dir.#cd, ::Function, ::Array{AbstractString,1}, ::Vararg{Array{AbstractString,1},N}) at ./<missing>:0",
      " in #test#3(::Bool, ::Function, ::String, ::Vararg{String,N}) at ./pkg/pkg.jl:258",
      " in test(::String, ::Vararg{String,N}) at ./pkg/pkg.jl:258"
     ]
    }
   ],
   "source": [
    "Pkg.test(\"ImageMagick\")"
   ]
  },
  {
   "cell_type": "code",
   "execution_count": null,
   "metadata": {
    "collapsed": true
   },
   "outputs": [],
   "source": []
  }
 ],
 "metadata": {
  "kernelspec": {
   "display_name": "Julia 0.5.0",
   "language": "julia",
   "name": "julia-0.5"
  },
  "language_info": {
   "file_extension": ".jl",
   "mimetype": "application/julia",
   "name": "julia",
   "version": "0.5.0"
  }
 },
 "nbformat": 4,
 "nbformat_minor": 1
}
