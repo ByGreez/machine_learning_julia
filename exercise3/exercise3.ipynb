{
 "cells": [
  {
   "cell_type": "markdown",
   "metadata": {},
   "source": [
    "# 1. Multi-class Classification\n",
    "\n",
    "In this exercise, we want to expand exercise 2 to multi-class classification. One easy way to implement that is using the One-vs-all algorithm. It transforms multi-class to double-class for each class, then run the normal logistic regression. For prediction it computes the probability of all classes, then choose the highest one."
   ]
  },
  {
   "cell_type": "markdown",
   "metadata": {},
   "source": [
    "## 1.1 Dataset\n",
    "\n",
    "In `images`, each row is a \"compressed\" 20 by 20 gray image, and `numbers` consists the corresponding class (digit 0 to 9 where 0 is represented as 10 in this exercise)."
   ]
  },
  {
   "cell_type": "code",
   "execution_count": 1,
   "metadata": {
    "collapsed": false
   },
   "outputs": [
    {
     "data": {
      "text/plain": [
       "(\n",
       "[0.0 0.0 … 0.0 0.0; 0.0 0.0 … 0.0 0.0; … ; 0.0 0.0 … 0.0 0.0; 0.0 0.0 … 0.0 0.0],\n",
       "\n",
       "[10.0; 10.0; … ; 9.0; 9.0])"
      ]
     },
     "execution_count": 1,
     "metadata": {},
     "output_type": "execute_result"
    }
   ],
   "source": [
    "using MAT\n",
    "using Images, Colors\n",
    "\n",
    "# Import the data from the .mat files\n",
    "data = matread(\"data/ex3data1.mat\")\n",
    "images, numbers = data[\"X\"], data[\"y\"]"
   ]
  },
  {
   "cell_type": "code",
   "execution_count": 2,
   "metadata": {
    "collapsed": false
   },
   "outputs": [
    {
     "data": {
      "text/plain": [
       "5000×400 Array{Float64,2}:\n",
       " 0.0  0.0  0.0  0.0  0.0  0.0  0.0  0.0  0.0  …  0.0  0.0  0.0  0.0  0.0  0.0\n",
       " 0.0  0.0  0.0  0.0  0.0  0.0  0.0  0.0  0.0     0.0  0.0  0.0  0.0  0.0  0.0\n",
       " 0.0  0.0  0.0  0.0  0.0  0.0  0.0  0.0  0.0     0.0  0.0  0.0  0.0  0.0  0.0\n",
       " 0.0  0.0  0.0  0.0  0.0  0.0  0.0  0.0  0.0     0.0  0.0  0.0  0.0  0.0  0.0\n",
       " 0.0  0.0  0.0  0.0  0.0  0.0  0.0  0.0  0.0     0.0  0.0  0.0  0.0  0.0  0.0\n",
       " 0.0  0.0  0.0  0.0  0.0  0.0  0.0  0.0  0.0  …  0.0  0.0  0.0  0.0  0.0  0.0\n",
       " 0.0  0.0  0.0  0.0  0.0  0.0  0.0  0.0  0.0     0.0  0.0  0.0  0.0  0.0  0.0\n",
       " 0.0  0.0  0.0  0.0  0.0  0.0  0.0  0.0  0.0     0.0  0.0  0.0  0.0  0.0  0.0\n",
       " 0.0  0.0  0.0  0.0  0.0  0.0  0.0  0.0  0.0     0.0  0.0  0.0  0.0  0.0  0.0\n",
       " 0.0  0.0  0.0  0.0  0.0  0.0  0.0  0.0  0.0     0.0  0.0  0.0  0.0  0.0  0.0\n",
       " 0.0  0.0  0.0  0.0  0.0  0.0  0.0  0.0  0.0  …  0.0  0.0  0.0  0.0  0.0  0.0\n",
       " 0.0  0.0  0.0  0.0  0.0  0.0  0.0  0.0  0.0     0.0  0.0  0.0  0.0  0.0  0.0\n",
       " 0.0  0.0  0.0  0.0  0.0  0.0  0.0  0.0  0.0     0.0  0.0  0.0  0.0  0.0  0.0\n",
       " ⋮                        ⋮                   ⋱       ⋮                      \n",
       " 0.0  0.0  0.0  0.0  0.0  0.0  0.0  0.0  0.0     0.0  0.0  0.0  0.0  0.0  0.0\n",
       " 0.0  0.0  0.0  0.0  0.0  0.0  0.0  0.0  0.0     0.0  0.0  0.0  0.0  0.0  0.0\n",
       " 0.0  0.0  0.0  0.0  0.0  0.0  0.0  0.0  0.0  …  0.0  0.0  0.0  0.0  0.0  0.0\n",
       " 0.0  0.0  0.0  0.0  0.0  0.0  0.0  0.0  0.0     0.0  0.0  0.0  0.0  0.0  0.0\n",
       " 0.0  0.0  0.0  0.0  0.0  0.0  0.0  0.0  0.0     0.0  0.0  0.0  0.0  0.0  0.0\n",
       " 0.0  0.0  0.0  0.0  0.0  0.0  0.0  0.0  0.0     0.0  0.0  0.0  0.0  0.0  0.0\n",
       " 0.0  0.0  0.0  0.0  0.0  0.0  0.0  0.0  0.0     0.0  0.0  0.0  0.0  0.0  0.0\n",
       " 0.0  0.0  0.0  0.0  0.0  0.0  0.0  0.0  0.0  …  0.0  0.0  0.0  0.0  0.0  0.0\n",
       " 0.0  0.0  0.0  0.0  0.0  0.0  0.0  0.0  0.0     0.0  0.0  0.0  0.0  0.0  0.0\n",
       " 0.0  0.0  0.0  0.0  0.0  0.0  0.0  0.0  0.0     0.0  0.0  0.0  0.0  0.0  0.0\n",
       " 0.0  0.0  0.0  0.0  0.0  0.0  0.0  0.0  0.0     0.0  0.0  0.0  0.0  0.0  0.0\n",
       " 0.0  0.0  0.0  0.0  0.0  0.0  0.0  0.0  0.0     0.0  0.0  0.0  0.0  0.0  0.0"
      ]
     },
     "execution_count": 2,
     "metadata": {},
     "output_type": "execute_result"
    }
   ],
   "source": [
    "images"
   ]
  },
  {
   "cell_type": "code",
   "execution_count": 3,
   "metadata": {
    "collapsed": false
   },
   "outputs": [
    {
     "data": {
      "text/plain": [
       "5000×1 Array{Float64,2}:\n",
       " 10.0\n",
       " 10.0\n",
       " 10.0\n",
       " 10.0\n",
       " 10.0\n",
       " 10.0\n",
       " 10.0\n",
       " 10.0\n",
       " 10.0\n",
       " 10.0\n",
       " 10.0\n",
       " 10.0\n",
       " 10.0\n",
       "  ⋮  \n",
       "  9.0\n",
       "  9.0\n",
       "  9.0\n",
       "  9.0\n",
       "  9.0\n",
       "  9.0\n",
       "  9.0\n",
       "  9.0\n",
       "  9.0\n",
       "  9.0\n",
       "  9.0\n",
       "  9.0"
      ]
     },
     "execution_count": 3,
     "metadata": {},
     "output_type": "execute_result"
    }
   ],
   "source": [
    "numbers"
   ]
  },
  {
   "cell_type": "markdown",
   "metadata": {},
   "source": [
    "## 1.2 Visualizing the data\n",
    "\n",
    "To visualize the images, we can use the `Image.jl` package. In a scrip, we also need to use `ImageView.jl`, but `Image.jl` supports Jupyter image output directly.\n",
    "\n",
    "To see the coorect image output, we need:\n",
    "1. Restore the compressed array into the original image matrix.\n",
    "2. Choose the correct size grid to display combined images.\n",
    "3. Fill the small image matrix into the big triangle image matrix.\n",
    "4. Display the triangle image matrix."
   ]
  },
  {
   "cell_type": "code",
   "execution_count": 4,
   "metadata": {
    "collapsed": false
   },
   "outputs": [
    {
     "data": {
      "text/plain": [
       "restore (generic function with 1 method)"
      ]
     },
     "execution_count": 4,
     "metadata": {},
     "output_type": "execute_result"
    }
   ],
   "source": [
    "# The width of the small image\n",
    "const WIDTH = convert(Int64, sqrt(length(images[1, :])))\n",
    "\n",
    "# Reshape one row of the training example into a square matrix\n",
    "function restore(row::Array{Float64, 1})\n",
    "    width = convert(Int64,sqrt(length(row)))\n",
    "    return  clamp01nan.(reshape(row, width, width))\n",
    "end"
   ]
  },
  {
   "cell_type": "code",
   "execution_count": 5,
   "metadata": {
    "collapsed": false
   },
   "outputs": [
    {
     "data": {
      "text/plain": [
       "move_image! (generic function with 1 method)"
      ]
     },
     "execution_count": 5,
     "metadata": {},
     "output_type": "execute_result"
    }
   ],
   "source": [
    "# Move one small image matrix into a bigger matrix at given position\n",
    "function move_image!(row::Int64, col::Int64, square::Array{Float64, 2}, \n",
    "                    im::Array{Float64, 2})\n",
    "    for i in 0:WIDTH-1\n",
    "        for j in 0:WIDTH-1\n",
    "            square[row + i, col + j] = im[i + 1, j + 1]\n",
    "        end\n",
    "    end\n",
    "end"
   ]
  },
  {
   "cell_type": "code",
   "execution_count": 6,
   "metadata": {
    "collapsed": false
   },
   "outputs": [
    {
     "data": {
      "text/plain": [
       "get_image (generic function with 1 method)"
      ]
     },
     "execution_count": 6,
     "metadata": {},
     "output_type": "execute_result"
    }
   ],
   "source": [
    "# Convert image array into image object\n",
    "get_image(im_array::Array) = colorview(Gray, im_array)"
   ]
  },
  {
   "cell_type": "code",
   "execution_count": 7,
   "metadata": {
    "collapsed": false
   },
   "outputs": [
    {
     "data": {
      "text/plain": [
       "min_perimeter (generic function with 1 method)"
      ]
     },
     "execution_count": 7,
     "metadata": {},
     "output_type": "execute_result"
    }
   ],
   "source": [
    "# Find the suitable grid matrix\n",
    "function min_perimeter(total::Int64)\n",
    "    min_a = min_b = start = convert(Int64, ceil(sqrt(total)))\n",
    "    peri = Inf\n",
    "    for a in convert(Int64, floor(start/2)):start\n",
    "        for b in convert(Int64, floor(start/2)):start\n",
    "            if (a + b) * 2 < peri && total <= a * b\n",
    "                min_a, min_b = a, b\n",
    "                peri = (a + b) * 2\n",
    "            end\n",
    "        end\n",
    "    end\n",
    "    return min_a, min_b\n",
    "end"
   ]
  },
  {
   "cell_type": "code",
   "execution_count": 8,
   "metadata": {
    "collapsed": false
   },
   "outputs": [
    {
     "data": {
      "text/plain": [
       "display_image (generic function with 2 methods)"
      ]
     },
     "execution_count": 8,
     "metadata": {},
     "output_type": "execute_result"
    }
   ],
   "source": [
    "# Display the images. `rows` is an array consisting the row number of the \n",
    "# images to display. The default is to randomly display 100 images.\n",
    "function display_image(rows::Array = [])\n",
    "    # Set up width and other variables\n",
    "    if rows == []\n",
    "        rows = rand(1:size(images, 1), 100)\n",
    "    end\n",
    "\n",
    "    if (tem_1 = sqrt(length(rows))) == (tem_2 = convert(Int64, ceil(tem_1)))\n",
    "        width = len = tem_2\n",
    "    else\n",
    "        len, width =  min_perimeter(length(rows))\n",
    "    end\n",
    "\n",
    "    fill_num = length(rows) - width * len             \n",
    "\n",
    "    # Preallocate a big square matrix\n",
    "    square = Array{Float64}(len * WIDTH, width * WIDTH)\n",
    "    row_cand = [i * WIDTH + 1 for i in 0:len-1]\n",
    "    col_cand = [i * WIDTH + 1 for i in 0:width-1]\n",
    "    i = 1\n",
    "    \n",
    "    # Moving small images into the big square in a loop\n",
    "    for row in row_cand\n",
    "        for col in col_cand\n",
    "            if i <= length(rows)\n",
    "                move_image!(row, col, square, restore(images[rows[i], :]))\n",
    "                i += 1\n",
    "            else\n",
    "                # Fill the extra black squares\n",
    "                move_image!(row, col, square, zeros(WIDTH, WIDTH))\n",
    "            end\n",
    "        end\n",
    "    end\n",
    "    \n",
    "    get_image(square)\n",
    "end"
   ]
  },
  {
   "cell_type": "code",
   "execution_count": 9,
   "metadata": {
    "collapsed": false
   },
   "outputs": [
    {
     "data": {
      "image/png": "[encoded data removed]",
      "text/plain": [
       "200×200 Array{Gray{Float64},2}:\n",
       " Gray{Float64}(0.0)  Gray{Float64}(0.0)  …  Gray{Float64}(0.0)\n",
       " Gray{Float64}(0.0)  Gray{Float64}(0.0)     Gray{Float64}(0.0)\n",
       " Gray{Float64}(0.0)  Gray{Float64}(0.0)     Gray{Float64}(0.0)\n",
       " Gray{Float64}(0.0)  Gray{Float64}(0.0)     Gray{Float64}(0.0)\n",
       " Gray{Float64}(0.0)  Gray{Float64}(0.0)     Gray{Float64}(0.0)\n",
       " Gray{Float64}(0.0)  Gray{Float64}(0.0)  …  Gray{Float64}(0.0)\n",
       " Gray{Float64}(0.0)  Gray{Float64}(0.0)     Gray{Float64}(0.0)\n",
       " Gray{Float64}(0.0)  Gray{Float64}(0.0)     Gray{Float64}(0.0)\n",
       " Gray{Float64}(0.0)  Gray{Float64}(0.0)     Gray{Float64}(0.0)\n",
       " Gray{Float64}(0.0)  Gray{Float64}(0.0)     Gray{Float64}(0.0)\n",
       " Gray{Float64}(0.0)  Gray{Float64}(0.0)  …  Gray{Float64}(0.0)\n",
       " Gray{Float64}(0.0)  Gray{Float64}(0.0)     Gray{Float64}(0.0)\n",
       " Gray{Float64}(0.0)  Gray{Float64}(0.0)     Gray{Float64}(0.0)\n",
       " ⋮                                       ⋱                    \n",
       " Gray{Float64}(0.0)  Gray{Float64}(0.0)     Gray{Float64}(0.0)\n",
       " Gray{Float64}(0.0)  Gray{Float64}(0.0)     Gray{Float64}(0.0)\n",
       " Gray{Float64}(0.0)  Gray{Float64}(0.0)  …  Gray{Float64}(0.0)\n",
       " Gray{Float64}(0.0)  Gray{Float64}(0.0)     Gray{Float64}(0.0)\n",
       " Gray{Float64}(0.0)  Gray{Float64}(0.0)     Gray{Float64}(0.0)\n",
       " Gray{Float64}(0.0)  Gray{Float64}(0.0)     Gray{Float64}(0.0)\n",
       " Gray{Float64}(0.0)  Gray{Float64}(0.0)     Gray{Float64}(0.0)\n",
       " Gray{Float64}(0.0)  Gray{Float64}(0.0)  …  Gray{Float64}(0.0)\n",
       " Gray{Float64}(0.0)  Gray{Float64}(0.0)     Gray{Float64}(0.0)\n",
       " Gray{Float64}(0.0)  Gray{Float64}(0.0)     Gray{Float64}(0.0)\n",
       " Gray{Float64}(0.0)  Gray{Float64}(0.0)     Gray{Float64}(0.0)\n",
       " Gray{Float64}(0.0)  Gray{Float64}(0.0)     Gray{Float64}(0.0)"
      ]
     },
     "execution_count": 9,
     "metadata": {},
     "output_type": "execute_result"
    }
   ],
   "source": [
    "display_image()"
   ]
  },
  {
   "cell_type": "code",
   "execution_count": 10,
   "metadata": {
    "collapsed": false
   },
   "outputs": [
    {
     "data": {
      "image/png": "[encoded data removed]",
      "text/plain": [
       "60×60 Array{Gray{Float64},2}:\n",
       " Gray{Float64}(0.0)  Gray{Float64}(0.0)  …  Gray{Float64}(0.0)\n",
       " Gray{Float64}(0.0)  Gray{Float64}(0.0)     Gray{Float64}(0.0)\n",
       " Gray{Float64}(0.0)  Gray{Float64}(0.0)     Gray{Float64}(0.0)\n",
       " Gray{Float64}(0.0)  Gray{Float64}(0.0)     Gray{Float64}(0.0)\n",
       " Gray{Float64}(0.0)  Gray{Float64}(0.0)     Gray{Float64}(0.0)\n",
       " Gray{Float64}(0.0)  Gray{Float64}(0.0)  …  Gray{Float64}(0.0)\n",
       " Gray{Float64}(0.0)  Gray{Float64}(0.0)     Gray{Float64}(0.0)\n",
       " Gray{Float64}(0.0)  Gray{Float64}(0.0)     Gray{Float64}(0.0)\n",
       " Gray{Float64}(0.0)  Gray{Float64}(0.0)     Gray{Float64}(0.0)\n",
       " Gray{Float64}(0.0)  Gray{Float64}(0.0)     Gray{Float64}(0.0)\n",
       " Gray{Float64}(0.0)  Gray{Float64}(0.0)  …  Gray{Float64}(0.0)\n",
       " Gray{Float64}(0.0)  Gray{Float64}(0.0)     Gray{Float64}(0.0)\n",
       " Gray{Float64}(0.0)  Gray{Float64}(0.0)     Gray{Float64}(0.0)\n",
       " ⋮                                       ⋱                    \n",
       " Gray{Float64}(0.0)  Gray{Float64}(0.0)     Gray{Float64}(0.0)\n",
       " Gray{Float64}(0.0)  Gray{Float64}(0.0)     Gray{Float64}(0.0)\n",
       " Gray{Float64}(0.0)  Gray{Float64}(0.0)  …  Gray{Float64}(0.0)\n",
       " Gray{Float64}(0.0)  Gray{Float64}(0.0)     Gray{Float64}(0.0)\n",
       " Gray{Float64}(0.0)  Gray{Float64}(0.0)     Gray{Float64}(0.0)\n",
       " Gray{Float64}(0.0)  Gray{Float64}(0.0)     Gray{Float64}(0.0)\n",
       " Gray{Float64}(0.0)  Gray{Float64}(0.0)     Gray{Float64}(0.0)\n",
       " Gray{Float64}(0.0)  Gray{Float64}(0.0)  …  Gray{Float64}(0.0)\n",
       " Gray{Float64}(0.0)  Gray{Float64}(0.0)     Gray{Float64}(0.0)\n",
       " Gray{Float64}(0.0)  Gray{Float64}(0.0)     Gray{Float64}(0.0)\n",
       " Gray{Float64}(0.0)  Gray{Float64}(0.0)     Gray{Float64}(0.0)\n",
       " Gray{Float64}(0.0)  Gray{Float64}(0.0)     Gray{Float64}(0.0)"
      ]
     },
     "execution_count": 10,
     "metadata": {},
     "output_type": "execute_result"
    }
   ],
   "source": [
    "display_image([100, 500, 1000, 1500, 2000, 2500, 3000, 3500, 4000])"
   ]
  },
  {
   "cell_type": "code",
   "execution_count": 11,
   "metadata": {
    "collapsed": false
   },
   "outputs": [
    {
     "data": {
      "image/png": "[encoded data removed]",
      "text/plain": [
       "100×120 Array{Gray{Float64},2}:\n",
       " Gray{Float64}(0.0)  Gray{Float64}(0.0)  …  Gray{Float64}(0.0)\n",
       " Gray{Float64}(0.0)  Gray{Float64}(0.0)     Gray{Float64}(0.0)\n",
       " Gray{Float64}(0.0)  Gray{Float64}(0.0)     Gray{Float64}(0.0)\n",
       " Gray{Float64}(0.0)  Gray{Float64}(0.0)     Gray{Float64}(0.0)\n",
       " Gray{Float64}(0.0)  Gray{Float64}(0.0)     Gray{Float64}(0.0)\n",
       " Gray{Float64}(0.0)  Gray{Float64}(0.0)  …  Gray{Float64}(0.0)\n",
       " Gray{Float64}(0.0)  Gray{Float64}(0.0)     Gray{Float64}(0.0)\n",
       " Gray{Float64}(0.0)  Gray{Float64}(0.0)     Gray{Float64}(0.0)\n",
       " Gray{Float64}(0.0)  Gray{Float64}(0.0)     Gray{Float64}(0.0)\n",
       " Gray{Float64}(0.0)  Gray{Float64}(0.0)     Gray{Float64}(0.0)\n",
       " Gray{Float64}(0.0)  Gray{Float64}(0.0)  …  Gray{Float64}(0.0)\n",
       " Gray{Float64}(0.0)  Gray{Float64}(0.0)     Gray{Float64}(0.0)\n",
       " Gray{Float64}(0.0)  Gray{Float64}(0.0)     Gray{Float64}(0.0)\n",
       " ⋮                                       ⋱                    \n",
       " Gray{Float64}(0.0)  Gray{Float64}(0.0)     Gray{Float64}(0.0)\n",
       " Gray{Float64}(0.0)  Gray{Float64}(0.0)     Gray{Float64}(0.0)\n",
       " Gray{Float64}(0.0)  Gray{Float64}(0.0)  …  Gray{Float64}(0.0)\n",
       " Gray{Float64}(0.0)  Gray{Float64}(0.0)     Gray{Float64}(0.0)\n",
       " Gray{Float64}(0.0)  Gray{Float64}(0.0)     Gray{Float64}(0.0)\n",
       " Gray{Float64}(0.0)  Gray{Float64}(0.0)     Gray{Float64}(0.0)\n",
       " Gray{Float64}(0.0)  Gray{Float64}(0.0)     Gray{Float64}(0.0)\n",
       " Gray{Float64}(0.0)  Gray{Float64}(0.0)  …  Gray{Float64}(0.0)\n",
       " Gray{Float64}(0.0)  Gray{Float64}(0.0)     Gray{Float64}(0.0)\n",
       " Gray{Float64}(0.0)  Gray{Float64}(0.0)     Gray{Float64}(0.0)\n",
       " Gray{Float64}(0.0)  Gray{Float64}(0.0)     Gray{Float64}(0.0)\n",
       " Gray{Float64}(0.0)  Gray{Float64}(0.0)     Gray{Float64}(0.0)"
      ]
     },
     "execution_count": 11,
     "metadata": {},
     "output_type": "execute_result"
    }
   ],
   "source": [
    "display_image(rand(1:4000, 28))"
   ]
  },
  {
   "cell_type": "markdown",
   "metadata": {},
   "source": [
    "## 1.3 Vectorizing Logistic Regression\n",
    "\n",
    "Since we have already used vectorized logistic regression implementation in exercise2, we can re-use the code in multi-class logistic regression. \n",
    "\n",
    "One thing to notice is `Optim.jl` requires user-provided gradient function `g!` to have excatly two arguments. For One-vs-all algorithm, we need to change the value matrix. Therefore we use the closure function to get cost and gradient."
   ]
  },
  {
   "cell_type": "code",
   "execution_count": 12,
   "metadata": {
    "collapsed": false
   },
   "outputs": [
    {
     "data": {
      "text/plain": [
       "5000×401 Array{Float64,2}:\n",
       " 1.0  0.0  0.0  0.0  0.0  0.0  0.0  0.0  0.0  …  0.0  0.0  0.0  0.0  0.0  0.0\n",
       " 1.0  0.0  0.0  0.0  0.0  0.0  0.0  0.0  0.0     0.0  0.0  0.0  0.0  0.0  0.0\n",
       " 1.0  0.0  0.0  0.0  0.0  0.0  0.0  0.0  0.0     0.0  0.0  0.0  0.0  0.0  0.0\n",
       " 1.0  0.0  0.0  0.0  0.0  0.0  0.0  0.0  0.0     0.0  0.0  0.0  0.0  0.0  0.0\n",
       " 1.0  0.0  0.0  0.0  0.0  0.0  0.0  0.0  0.0     0.0  0.0  0.0  0.0  0.0  0.0\n",
       " 1.0  0.0  0.0  0.0  0.0  0.0  0.0  0.0  0.0  …  0.0  0.0  0.0  0.0  0.0  0.0\n",
       " 1.0  0.0  0.0  0.0  0.0  0.0  0.0  0.0  0.0     0.0  0.0  0.0  0.0  0.0  0.0\n",
       " 1.0  0.0  0.0  0.0  0.0  0.0  0.0  0.0  0.0     0.0  0.0  0.0  0.0  0.0  0.0\n",
       " 1.0  0.0  0.0  0.0  0.0  0.0  0.0  0.0  0.0     0.0  0.0  0.0  0.0  0.0  0.0\n",
       " 1.0  0.0  0.0  0.0  0.0  0.0  0.0  0.0  0.0     0.0  0.0  0.0  0.0  0.0  0.0\n",
       " 1.0  0.0  0.0  0.0  0.0  0.0  0.0  0.0  0.0  …  0.0  0.0  0.0  0.0  0.0  0.0\n",
       " 1.0  0.0  0.0  0.0  0.0  0.0  0.0  0.0  0.0     0.0  0.0  0.0  0.0  0.0  0.0\n",
       " 1.0  0.0  0.0  0.0  0.0  0.0  0.0  0.0  0.0     0.0  0.0  0.0  0.0  0.0  0.0\n",
       " ⋮                        ⋮                   ⋱  ⋮                        ⋮  \n",
       " 1.0  0.0  0.0  0.0  0.0  0.0  0.0  0.0  0.0     0.0  0.0  0.0  0.0  0.0  0.0\n",
       " 1.0  0.0  0.0  0.0  0.0  0.0  0.0  0.0  0.0     0.0  0.0  0.0  0.0  0.0  0.0\n",
       " 1.0  0.0  0.0  0.0  0.0  0.0  0.0  0.0  0.0  …  0.0  0.0  0.0  0.0  0.0  0.0\n",
       " 1.0  0.0  0.0  0.0  0.0  0.0  0.0  0.0  0.0     0.0  0.0  0.0  0.0  0.0  0.0\n",
       " 1.0  0.0  0.0  0.0  0.0  0.0  0.0  0.0  0.0     0.0  0.0  0.0  0.0  0.0  0.0\n",
       " 1.0  0.0  0.0  0.0  0.0  0.0  0.0  0.0  0.0     0.0  0.0  0.0  0.0  0.0  0.0\n",
       " 1.0  0.0  0.0  0.0  0.0  0.0  0.0  0.0  0.0     0.0  0.0  0.0  0.0  0.0  0.0\n",
       " 1.0  0.0  0.0  0.0  0.0  0.0  0.0  0.0  0.0  …  0.0  0.0  0.0  0.0  0.0  0.0\n",
       " 1.0  0.0  0.0  0.0  0.0  0.0  0.0  0.0  0.0     0.0  0.0  0.0  0.0  0.0  0.0\n",
       " 1.0  0.0  0.0  0.0  0.0  0.0  0.0  0.0  0.0     0.0  0.0  0.0  0.0  0.0  0.0\n",
       " 1.0  0.0  0.0  0.0  0.0  0.0  0.0  0.0  0.0     0.0  0.0  0.0  0.0  0.0  0.0\n",
       " 1.0  0.0  0.0  0.0  0.0  0.0  0.0  0.0  0.0     0.0  0.0  0.0  0.0  0.0  0.0"
      ]
     },
     "execution_count": 12,
     "metadata": {},
     "output_type": "execute_result"
    }
   ],
   "source": [
    "# There are 10 classifiers in total\n",
    "const NUM = 10\n",
    "\n",
    "# Transform the images images into a standard feature matrix \n",
    "# Add a value 1 column into `images`\n",
    "feature = hcat([1 for i in 1:size(images, 1)], images)"
   ]
  },
  {
   "cell_type": "code",
   "execution_count": 13,
   "metadata": {
    "collapsed": false
   },
   "outputs": [
    {
     "data": {
      "text/plain": [
       "h (generic function with 1 method)"
      ]
     },
     "execution_count": 13,
     "metadata": {},
     "output_type": "execute_result"
    }
   ],
   "source": [
    "# Define the logistic function, which supports both one-example-vector, or a\n",
    "# training-set-matrix. x can be either a row vector or a column vector if x is\n",
    "# just one training example, and this function assumes the first entry of the \n",
    "# vector is 1. If x is a training-set-matrix, then each row is one example, \n",
    "# and this function returns a n*1 matrix. If x is one-example-vector, this \n",
    "# function would return a Float rather than an array.\n",
    "function h(Θ, x)\n",
    "    # Single row vector\n",
    "    if size(x, 1) == 1\n",
    "        return 1 / (1 + e ^ -(x * Θ)[1])\n",
    "    # Single column vector\n",
    "    elseif size(x, 2) == 1\n",
    "        return 1 / (1 + e ^ -(x' * Θ)[1])\n",
    "    # Training set matrix\n",
    "    else\n",
    "        return result = map(z -> 1 / (1 + e ^ z), -(x * Θ))\n",
    "    end\n",
    "end"
   ]
  },
  {
   "cell_type": "code",
   "execution_count": 14,
   "metadata": {
    "collapsed": false
   },
   "outputs": [
    {
     "data": {
      "text/plain": [
       "cost_and_gradient (generic function with 1 method)"
      ]
     },
     "execution_count": 14,
     "metadata": {},
     "output_type": "execute_result"
    }
   ],
   "source": [
    "# `value` is  different for each classifier. One way to deal with it is to \n",
    "# pass `value` in a single cost() or g!() as an argument. However, `g!()` does \n",
    "# not support this method, so for the sake of consistence, we use closure here.\n",
    "# The code below is modified a little bit from the ex2, now it takes `value` as\n",
    "# an argument,\n",
    "function cost_and_gradient(Θ, value, λ)\n",
    "    m = size(feature, 1)\n",
    "    return (Θ::Array) -> begin\n",
    "        hypo = h(Θ, feature)\n",
    "        pre = ((-value' * log(hypo) - (1 - value)' * log(1 - hypo)) / m)[1]\n",
    "        return pre + ((λ / (2 * m)) * sum(Θ[2:end] .^ 2))\n",
    "    end, (Θ::Array, storage::Array) -> begin\n",
    "        hypo = h(Θ, feature)\n",
    "        result = (feature' * (hypo - value)) / m\n",
    "        storage[:] = result + (λ / m) * [0; Θ[2:end]]\n",
    "    end\n",
    "end"
   ]
  },
  {
   "cell_type": "markdown",
   "metadata": {},
   "source": [
    "## 1.4 One-vs-all Classification\n",
    "\n",
    "Finally we can start the One-vs-all classification training process. We just implement the following:\n",
    "1. Change multi-class to double-class\n",
    "2. Run normal double-class logistic regression for each double-class case\n",
    "3. Record the result"
   ]
  },
  {
   "cell_type": "code",
   "execution_count": 15,
   "metadata": {
    "collapsed": false
   },
   "outputs": [
    {
     "data": {
      "text/plain": [
       "get_value (generic function with 1 method)"
      ]
     },
     "execution_count": 15,
     "metadata": {},
     "output_type": "execute_result"
    }
   ],
   "source": [
    "using Optim\n",
    "\n",
    "# Construct the value vector for each classifier. value vector consists only\n",
    "# 1 and 0. 1 represents it is in this classification while 0 means not.\n",
    "get_value(k) = [i == k ? 1 : 0 for i in numbers]"
   ]
  },
  {
   "cell_type": "code",
   "execution_count": 16,
   "metadata": {
    "collapsed": false
   },
   "outputs": [
    {
     "data": {
      "text/plain": [
       "10×401 Array{Float64,2}:\n",
       " -2.38369   0.0  0.0   3.53643e-5  …   0.00130431   -7.22707e-10  0.0\n",
       " -3.18303   0.0  0.0  -2.80606e-5      0.00446056   -0.000508561  0.0\n",
       " -4.79746   0.0  0.0  -8.08939e-6     -2.8706e-5    -2.47458e-7   0.0\n",
       " -2.01356   0.0  0.0  -4.02761e-6      0.000173601   3.76565e-6   0.0\n",
       "  0.175505  0.0  0.0  -2.81637e-7     -0.000330084  -1.03148e-6   0.0\n",
       " -3.14857   0.0  0.0  -5.35919e-7  …  -0.00014077    1.47026e-5   0.0\n",
       " -1.90394   0.0  0.0  -1.59088e-5     -0.000527982   6.62588e-5   0.0\n",
       " -7.98717   0.0  0.0  -4.78947e-6     -8.94814e-5    7.2143e-6    0.0\n",
       " -4.57254   0.0  0.0  -5.50712e-7     -0.00133541    9.98613e-5   0.0\n",
       " -5.40575   0.0  0.0  -2.35221e-9     -0.000116628   7.88257e-6   0.0"
      ]
     },
     "execution_count": 16,
     "metadata": {},
     "output_type": "execute_result"
    }
   ],
   "source": [
    "# Start the training\n",
    "# Preallocate the big matrix for all parameter Θ, where each row is a parameter\n",
    "# for that classifier\n",
    "Θ = Array{Float64}(NUM, size(feature, 2))\n",
    "\n",
    "for k in 1:NUM\n",
    "    # Get the local mini_θ\n",
    "    cost, g! = cost_and_gradient(zeros(size(feature, 2)), get_value(k), 1)\n",
    "    res = optimize(cost, g!, zeros(size(feature, 2)))\n",
    "    mini_Θ = Optim.minimizer(res)\n",
    "    \n",
    "    # Build mini_θ into the big matrix Θ\n",
    "    for col in 1:length(mini_Θ)\n",
    "        Θ[k, col] = mini_Θ[col]\n",
    "    end\n",
    "end\n",
    "\n",
    "Θ"
   ]
  },
  {
   "cell_type": "markdown",
   "metadata": {},
   "source": [
    "Now we have got all parameters for each class and stored them in a matrix $\\Theta$. In this problem, $\\Theta \\in M_{10\\times 401}$. $10$ represents that we have ten classes in total ($10$ digits), and $401$ means we have $401$ features (including the constant $1$ feature)."
   ]
  },
  {
   "cell_type": "markdown",
   "metadata": {},
   "source": [
    "## 1.5 One-vs-all Prediction\n",
    "After getting the parameter matrix $\\Theta$, prediction is trivial. We used the same method to compute the probability of each class, and choose the one having the max likelihood as our result."
   ]
  },
  {
   "cell_type": "code",
   "execution_count": 17,
   "metadata": {
    "collapsed": false
   },
   "outputs": [
    {
     "data": {
      "text/plain": [
       "predict (generic function with 1 method)"
      ]
     },
     "execution_count": 17,
     "metadata": {},
     "output_type": "execute_result"
    }
   ],
   "source": [
    "# Multi-class prediction. Parameter x could be either a row vector (1 * 400) or\n",
    "# a column vector (400 * 1).\n",
    "function predict(x)\n",
    "    # Compute the probabilities of each classes\n",
    "    sigmoid(z) =  1 / (1 + e ^ (-z))\n",
    "    xΘ = size(x, 1) == 1 ? Θ * x' : Θ * x\n",
    "    proba = Array{Float64}(NUM)\n",
    "    for i in 1:length(proba)\n",
    "        proba[i] = sigmoid(xΘ[i])\n",
    "    end\n",
    "    # Return prediction\n",
    "    return find(p -> p == maximum(proba), proba)[1]\n",
    "end"
   ]
  },
  {
   "cell_type": "markdown",
   "metadata": {},
   "source": [
    "We then can use the following `predict_test` to test on the training sets (reload the features and compare with the correct classification)."
   ]
  },
  {
   "cell_type": "code",
   "execution_count": 18,
   "metadata": {
    "collapsed": false
   },
   "outputs": [
    {
     "data": {
      "text/plain": [
       "(0.9446,Dict(4991=>3,1113=>8,1629=>2,1564=>2,2305=>6,4811=>3,1557=>5,1131=>9,2239=>9,2599=>4…))"
      ]
     },
     "execution_count": 18,
     "metadata": {},
     "output_type": "execute_result"
    }
   ],
   "source": [
    "# Test using result-known examples, return the correct rate. It also supports\n",
    "# returning the example which classifier fails to classify with the wrong \n",
    "# class prediction.\n",
    "function predict_test(feature::Array{Float64, 2}, value::Array{Float64, 2})\n",
    "    correct_num = 0\n",
    "    failed = Dict{Int64, Int64}()\n",
    "    for t in 1:size(feature, 1)\n",
    "        pred =  predict(feature[t, :])\n",
    "        if  pred == value[t]\n",
    "            correct_num += 1\n",
    "        else\n",
    "            failed[t] = pred\n",
    "        end\n",
    "    end\n",
    "    return correct_num / size(feature, 1), failed\n",
    "end\n",
    "\n",
    "rate, failed = predict_test(feature, numbers)"
   ]
  },
  {
   "cell_type": "markdown",
   "metadata": {},
   "source": [
    "The correct ratio is 0.9446. We failed to classify 277 examples and we can display what images are challenging for this algorithm."
   ]
  },
  {
   "cell_type": "code",
   "execution_count": 19,
   "metadata": {
    "collapsed": false
   },
   "outputs": [
    {
     "data": {
      "text/plain": [
       "Dict{Int64,Int64} with 277 entries:\n",
       "  4991 => 3\n",
       "  1113 => 8\n",
       "  1629 => 2\n",
       "  1564 => 2\n",
       "  2305 => 6\n",
       "  4811 => 3\n",
       "  1557 => 5\n",
       "  1131 => 9\n",
       "  2239 => 9\n",
       "  2599 => 4\n",
       "  2553 => 4\n",
       "  1495 => 10\n",
       "  1565 => 2\n",
       "  2094 => 8\n",
       "  4253 => 9\n",
       "  1232 => 8\n",
       "  4232 => 5\n",
       "  3617 => 4\n",
       "  4577 => 7\n",
       "  4782 => 2\n",
       "  4504 => 7\n",
       "  3910 => 9\n",
       "  3896 => 1\n",
       "  1880 => 2\n",
       "  2557 => 2\n",
       "  ⋮    => ⋮"
      ]
     },
     "execution_count": 19,
     "metadata": {},
     "output_type": "execute_result"
    }
   ],
   "source": [
    "failed"
   ]
  },
  {
   "cell_type": "code",
   "execution_count": 20,
   "metadata": {
    "collapsed": false
   },
   "outputs": [
    {
     "data": {
      "image/png": "[encoded data removed]",
      "text/plain": [
       "340×340 Array{Gray{Float64},2}:\n",
       " Gray{Float64}(0.0)  Gray{Float64}(0.0)  …  Gray{Float64}(0.0)\n",
       " Gray{Float64}(0.0)  Gray{Float64}(0.0)     Gray{Float64}(0.0)\n",
       " Gray{Float64}(0.0)  Gray{Float64}(0.0)     Gray{Float64}(0.0)\n",
       " Gray{Float64}(0.0)  Gray{Float64}(0.0)     Gray{Float64}(0.0)\n",
       " Gray{Float64}(0.0)  Gray{Float64}(0.0)     Gray{Float64}(0.0)\n",
       " Gray{Float64}(0.0)  Gray{Float64}(0.0)  …  Gray{Float64}(0.0)\n",
       " Gray{Float64}(0.0)  Gray{Float64}(0.0)     Gray{Float64}(0.0)\n",
       " Gray{Float64}(0.0)  Gray{Float64}(0.0)     Gray{Float64}(0.0)\n",
       " Gray{Float64}(0.0)  Gray{Float64}(0.0)     Gray{Float64}(0.0)\n",
       " Gray{Float64}(0.0)  Gray{Float64}(0.0)     Gray{Float64}(0.0)\n",
       " Gray{Float64}(0.0)  Gray{Float64}(0.0)  …  Gray{Float64}(0.0)\n",
       " Gray{Float64}(0.0)  Gray{Float64}(0.0)     Gray{Float64}(0.0)\n",
       " Gray{Float64}(0.0)  Gray{Float64}(0.0)     Gray{Float64}(0.0)\n",
       " ⋮                                       ⋱                    \n",
       " Gray{Float64}(0.0)  Gray{Float64}(0.0)     Gray{Float64}(0.0)\n",
       " Gray{Float64}(0.0)  Gray{Float64}(0.0)     Gray{Float64}(0.0)\n",
       " Gray{Float64}(0.0)  Gray{Float64}(0.0)  …  Gray{Float64}(0.0)\n",
       " Gray{Float64}(0.0)  Gray{Float64}(0.0)     Gray{Float64}(0.0)\n",
       " Gray{Float64}(0.0)  Gray{Float64}(0.0)     Gray{Float64}(0.0)\n",
       " Gray{Float64}(0.0)  Gray{Float64}(0.0)     Gray{Float64}(0.0)\n",
       " Gray{Float64}(0.0)  Gray{Float64}(0.0)     Gray{Float64}(0.0)\n",
       " Gray{Float64}(0.0)  Gray{Float64}(0.0)  …  Gray{Float64}(0.0)\n",
       " Gray{Float64}(0.0)  Gray{Float64}(0.0)     Gray{Float64}(0.0)\n",
       " Gray{Float64}(0.0)  Gray{Float64}(0.0)     Gray{Float64}(0.0)\n",
       " Gray{Float64}(0.0)  Gray{Float64}(0.0)     Gray{Float64}(0.0)\n",
       " Gray{Float64}(0.0)  Gray{Float64}(0.0)     Gray{Float64}(0.0)"
      ]
     },
     "execution_count": 20,
     "metadata": {},
     "output_type": "execute_result"
    }
   ],
   "source": [
    "display_image([i for i in keys(failed)])"
   ]
  },
  {
   "cell_type": "markdown",
   "metadata": {},
   "source": [
    "Some numbers seem not hard to detect, but we might need more training samples to improve the accuracy."
   ]
  },
  {
   "cell_type": "markdown",
   "metadata": {},
   "source": [
    "# 2. Neural Networks\n",
    "Finally we can get into the neural network exercise. Neural network is using hidden layers to make it possible and easy to learn complex functions. While giving limited features, it can figure out the `optimal` weights for each feature in each layer. The parameters we tried to find out in linear regression become the weights in neural networks terminology."
   ]
  },
  {
   "cell_type": "markdown",
   "metadata": {},
   "source": [
    "## 2.1 Model representation\n",
    "We will use matrices to represent layers and weights among layers. For notation, we use $z^{j}$ to present the $j$th layer, and $a^{j}$ for the values in $j$th layer before mapped by the activation function (we use sigmoid function in this exercise). $\\Theta^{j}$ stands for the weights from layer $j$ to layer $j+1$."
   ]
  },
  {
   "cell_type": "code",
   "execution_count": 21,
   "metadata": {
    "collapsed": false
   },
   "outputs": [
    {
     "data": {
      "text/plain": [
       "25×401 Array{Float64,2}:\n",
       " -0.0225624  -1.05624e-8    2.19415e-9   …  -5.04175e-6    2.80464e-9 \n",
       " -0.0983811   7.66169e-9   -9.75874e-9       2.00941e-7    3.54423e-9 \n",
       "  0.116156   -8.77654e-9    8.16038e-9      -2.3367e-6    -7.50668e-9 \n",
       " -0.239693   -6.31836e-9    2.64129e-9       8.68409e-7    9.88744e-9 \n",
       " -0.731625    8.14777e-9    5.85879e-9      -2.65382e-6   -2.17661e-9 \n",
       " -0.597941   -7.76628e-9    1.07444e-8   …  -1.04026e-5   -5.65769e-10\n",
       "  0.154559   -6.38022e-9   -6.05473e-9      -2.38387e-6   -6.85497e-9 \n",
       " -0.0337226   8.05171e-9    5.42028e-9       2.87857e-7    1.09306e-8 \n",
       " -0.410695    5.8812e-10    1.06828e-8      -2.36041e-7   -5.53086e-9 \n",
       "  0.0234993  -8.93865e-9   -6.5513e-9        1.90242e-5   -9.8794e-9  \n",
       "  0.247749   -9.7255e-9    -1.15033e-8   …   0.000106968  -1.1447e-8  \n",
       "  0.265346   -4.88183e-9    8.70961e-9       6.13853e-5    7.54637e-9 \n",
       "  0.0942624  -1.58218e-9   -9.52173e-9      -7.75648e-5   -1.15907e-8 \n",
       "  0.202165    1.0448e-8     5.3195e-9       -1.27237e-5   -7.19708e-9 \n",
       " -0.203042   -9.6931e-9     1.0694e-8       -2.01851e-5   -2.4475e-9  \n",
       "  0.104627   -8.95204e-9   -9.73137e-10  …   6.32209e-5    4.70752e-9 \n",
       "  0.148911   -9.72618e-9   -9.63236e-9       2.59491e-5    5.38651e-9 \n",
       " -0.0378975   6.79302e-9    4.59859e-9       3.0157e-8    -2.70152e-9 \n",
       " -0.332045   -5.96869e-9    1.14964e-9       7.26404e-5   -1.25021e-9 \n",
       " -0.297696   -5.66061e-9   -3.03577e-9       2.7349e-5    -5.07039e-9 \n",
       " -0.48423     4.75279e-9   -1.13055e-8   …  -2.03086e-5   -1.06266e-8 \n",
       " -0.389775   -2.09991e-9    5.46937e-9      -6.9377e-7    -5.76833e-9 \n",
       " -0.183221   -8.89272e-9   -9.81968e-9      -3.25484e-6    9.02499e-9 \n",
       " -0.702096    3.05178e-10   2.56061e-9       9.4345e-5     3.83762e-9 \n",
       " -0.350933    8.85877e-9   -6.57515e-10     -8.14465e-6    8.79455e-9 "
      ]
     },
     "execution_count": 21,
     "metadata": {},
     "output_type": "execute_result"
    }
   ],
   "source": [
    "# Import weights data\n",
    "data = matread(\"data/ex3weights.mat\")\n",
    "Θ1, Θ2 = data[\"Theta1\"], data[\"Theta2\"]\n",
    "Θ1"
   ]
  },
  {
   "cell_type": "code",
   "execution_count": 22,
   "metadata": {
    "collapsed": false
   },
   "outputs": [
    {
     "data": {
      "text/plain": [
       "10×26 Array{Float64,2}:\n",
       " -0.761004  -1.21244   -0.101871  …  -2.27193    -0.718362  -1.2969  \n",
       " -0.617852   0.615592  -1.26551       2.31181    -2.46444    1.45657 \n",
       " -0.689341  -1.94538    2.01361      -1.06138     1.02759   -0.476908\n",
       " -0.678325   0.462992   0.584923     -0.0805587  -2.03511   -1.46124 \n",
       " -0.596643  -2.04482    2.05698      -1.89613    -0.874881   2.51039 \n",
       " -0.877949   0.434411  -0.93161   …  -1.17646    -1.63463   -0.824677\n",
       " -0.527465   1.21564   -1.50096       0.0473472   1.65746    1.68541 \n",
       " -0.749015  -0.722491  -3.15228      -0.380142    0.708718  -2.11014 \n",
       " -0.666547   0.536018   1.30308      -0.223093   -1.40442   -2.13192 \n",
       " -0.460891  -1.43945   -1.2181       -0.247796    1.28009   -1.32752 "
      ]
     },
     "execution_count": 22,
     "metadata": {},
     "output_type": "execute_result"
    }
   ],
   "source": [
    "Θ2"
   ]
  },
  {
   "cell_type": "markdown",
   "metadata": {},
   "source": [
    "## 2.2 Feedforward Propagation and Prediction\n",
    "We have already had the two weight matrices. $\\Theta_1 \\in M_{25 \\times 401}$ since first layer has 401 features (including the bias feature) and there are 25 in the second layer (not including the bias feature because no input for bias)."
   ]
  },
  {
   "cell_type": "markdown",
   "metadata": {},
   "source": [
    "- The mapping is defined as fellowing:\n",
    "\n",
    "\\begin{align*} \n",
    "a_1^{(2)} &= g(\\Theta_{10}^{(1)}x_0 + \\Theta_{11}^{(1)}x_1 + \\Theta_{12}^{(1)}x_2 + \\Theta_{13}^{(1)}x_3) \\newline a_2^{(2)} &= g(\\Theta_{20}^{(1)}x_0 + \\Theta_{21}^{(1)}x_1 + \\Theta_{22}^{(1)}x_2 + \\Theta_{23}^{(1)}x_3) \\newline a_3^{(2)} &= g(\\Theta_{30}^{(1)}x_0 + \\Theta_{31}^{(1)}x_1 + \\Theta_{32}^{(1)}x_2 + \\Theta_{33}^{(1)}x_3) \\newline h_\\Theta(x) &= a_1^{(3)} = g(\\Theta_{10}^{(2)}a_0^{(2)} + \\Theta_{11}^{(2)}a_1^{(2)} + \\Theta_{12}^{(2)}a_2^{(2)} + \\Theta_{13}^{(2)}a_3^{(2)}) \\newline \n",
    "\\end{align*}\n",
    "\n",
    "- Then we can use matrix to represent the computation.\n",
    "    Define $z_k^{(2)} = \\Theta_{k,0}^{(1)}x_0 + \\Theta_{k,1}^{(1)}x_1 + \\cdots + \\Theta_{k,n}^{(1)}x_n$ and $a^{(j-1)} = \\begin{bmatrix}1 \\\\a_1^{(j-1)} \\newline a_2^{(j-1)} \\newline\\cdots \\newline a_n^{(j-1)}\\end{bmatrix}$\n",
    "\n",
    "    Then $\\begin{align*}z^{(j)} = \\begin{bmatrix}z_1^{(j)} \\newline z_2^{(j)} \\newline\\cdots \\newline z_n^{(j)}\\end{bmatrix}\\end{align*} = \\Theta^{(j-1)} a^{(j-1)}$\n",
    "    This computation is called **Forward Propagation**.\n",
    "- We can think we are doing a logistic regression from the last hidden layer to the output. The different thing is we convert features $X$ into $a^{(j)}$."
   ]
  },
  {
   "cell_type": "code",
   "execution_count": 23,
   "metadata": {
    "collapsed": false
   },
   "outputs": [
    {
     "data": {
      "text/plain": [
       "sigmoid (generic function with 1 method)"
      ]
     },
     "execution_count": 23,
     "metadata": {},
     "output_type": "execute_result"
    }
   ],
   "source": [
    "# We use sigmid function as activation function\n",
    "# x can be either a number or an array\n",
    "function sigmoid(z)\n",
    "    if size(z) == ()\n",
    "        return 1 / (1 + e ^ (-z))\n",
    "    else\n",
    "        tem = Array{Float64}(length(z))\n",
    "        for i in 1:length(z)\n",
    "            tem[i] = 1 / (1 + e ^ (-z[i]))\n",
    "        end\n",
    "    end\n",
    "    return tem\n",
    "end"
   ]
  },
  {
   "cell_type": "markdown",
   "metadata": {},
   "source": [
    "The output layer consists $10$ values, which are the probabilities of getting each class. Therefore we choose the max one in this layer to predict."
   ]
  },
  {
   "cell_type": "code",
   "execution_count": 24,
   "metadata": {
    "collapsed": false
   },
   "outputs": [
    {
     "data": {
      "text/plain": [
       "nn_predict (generic function with 1 method)"
      ]
     },
     "execution_count": 24,
     "metadata": {},
     "output_type": "execute_result"
    }
   ],
   "source": [
    "# Input layer unit x can be either a row vector or a column vector\n",
    "function nn_predict(x)\n",
    "    # x is the input layer, we want to get the hidden layer first\n",
    "    z2 = size(x,2) == 1 ? Θ1 * x : Θ1 * x'\n",
    "    a2 = sigmoid(z2)\n",
    "\n",
    "    # Get the output layer\n",
    "    # Add bias unit to a2\n",
    "    unshift!(a2, 1)\n",
    "    z3 = Θ2 * a2\n",
    "    a3 = sigmoid(z3)\n",
    "    \n",
    "    return find(p -> p == maximum(a3), a3)[1]\n",
    "end"
   ]
  },
  {
   "cell_type": "code",
   "execution_count": 25,
   "metadata": {
    "collapsed": false
   },
   "outputs": [
    {
     "data": {
      "text/plain": [
       "(0.9752,Dict(1971=>7,2113=>1,532=>7,4637=>3,2109=>2,638=>4,3205=>1,3665=>4,4532=>7,4991=>3…))"
      ]
     },
     "execution_count": 25,
     "metadata": {},
     "output_type": "execute_result"
    }
   ],
   "source": [
    "# Test using result-known examples, return the correct rate. It also supports\n",
    "# returning the example which classifier fails to classify with the wrong \n",
    "# class prediction.\n",
    "function nn_predict_test(feature::Array{Float64, 2}, value::Array{Float64, 2})\n",
    "    correct_num = 0\n",
    "    failed = Dict{Int64, Int64}()\n",
    "    for t in 1:size(feature, 1)\n",
    "        pred =  nn_predict(feature[t, :])\n",
    "        if  pred == value[t]\n",
    "            correct_num += 1\n",
    "        else\n",
    "            failed[t] = pred\n",
    "        end\n",
    "    end\n",
    "    return correct_num / size(feature, 1), failed\n",
    "end\n",
    "\n",
    "nn_rate, nn_failed = nn_predict_test(feature, numbers)"
   ]
  },
  {
   "cell_type": "code",
   "execution_count": 26,
   "metadata": {
    "collapsed": false
   },
   "outputs": [
    {
     "data": {
      "text/plain": [
       "Dict{Int64,Int64} with 124 entries:\n",
       "  1971 => 7\n",
       "  2113 => 1\n",
       "  532  => 7\n",
       "  4637 => 3\n",
       "  2109 => 2\n",
       "  638  => 4\n",
       "  3205 => 1\n",
       "  3665 => 4\n",
       "  4532 => 7\n",
       "  4991 => 3\n",
       "  1407 => 6\n",
       "  4709 => 7\n",
       "  4845 => 1\n",
       "  3079 => 5\n",
       "  909  => 4\n",
       "  1007 => 6\n",
       "  1589 => 6\n",
       "  4861 => 1\n",
       "  4594 => 10\n",
       "  1701 => 5\n",
       "  2239 => 9\n",
       "  3044 => 10\n",
       "  1495 => 10\n",
       "  1565 => 2\n",
       "  4903 => 7\n",
       "  ⋮    => ⋮"
      ]
     },
     "execution_count": 26,
     "metadata": {},
     "output_type": "execute_result"
    }
   ],
   "source": [
    "nn_failed"
   ]
  },
  {
   "cell_type": "markdown",
   "metadata": {},
   "source": [
    "The accuracy is higher than the linear regression, lets see which numbers made this neural network fail."
   ]
  },
  {
   "cell_type": "code",
   "execution_count": 27,
   "metadata": {
    "collapsed": false
   },
   "outputs": [
    {
     "data": {
      "image/png": "[encoded data removed]",
      "text/plain": [
       "220×240 Array{Gray{Float64},2}:\n",
       " Gray{Float64}(0.0)  Gray{Float64}(0.0)  …  Gray{Float64}(0.0)\n",
       " Gray{Float64}(0.0)  Gray{Float64}(0.0)     Gray{Float64}(0.0)\n",
       " Gray{Float64}(0.0)  Gray{Float64}(0.0)     Gray{Float64}(0.0)\n",
       " Gray{Float64}(0.0)  Gray{Float64}(0.0)     Gray{Float64}(0.0)\n",
       " Gray{Float64}(0.0)  Gray{Float64}(0.0)     Gray{Float64}(0.0)\n",
       " Gray{Float64}(0.0)  Gray{Float64}(0.0)  …  Gray{Float64}(0.0)\n",
       " Gray{Float64}(0.0)  Gray{Float64}(0.0)     Gray{Float64}(0.0)\n",
       " Gray{Float64}(0.0)  Gray{Float64}(0.0)     Gray{Float64}(0.0)\n",
       " Gray{Float64}(0.0)  Gray{Float64}(0.0)     Gray{Float64}(0.0)\n",
       " Gray{Float64}(0.0)  Gray{Float64}(0.0)     Gray{Float64}(0.0)\n",
       " Gray{Float64}(0.0)  Gray{Float64}(0.0)  …  Gray{Float64}(0.0)\n",
       " Gray{Float64}(0.0)  Gray{Float64}(0.0)     Gray{Float64}(0.0)\n",
       " Gray{Float64}(0.0)  Gray{Float64}(0.0)     Gray{Float64}(0.0)\n",
       " ⋮                                       ⋱                    \n",
       " Gray{Float64}(0.0)  Gray{Float64}(0.0)     Gray{Float64}(0.0)\n",
       " Gray{Float64}(0.0)  Gray{Float64}(0.0)     Gray{Float64}(0.0)\n",
       " Gray{Float64}(0.0)  Gray{Float64}(0.0)  …  Gray{Float64}(0.0)\n",
       " Gray{Float64}(0.0)  Gray{Float64}(0.0)     Gray{Float64}(0.0)\n",
       " Gray{Float64}(0.0)  Gray{Float64}(0.0)     Gray{Float64}(0.0)\n",
       " Gray{Float64}(0.0)  Gray{Float64}(0.0)     Gray{Float64}(0.0)\n",
       " Gray{Float64}(0.0)  Gray{Float64}(0.0)     Gray{Float64}(0.0)\n",
       " Gray{Float64}(0.0)  Gray{Float64}(0.0)  …  Gray{Float64}(0.0)\n",
       " Gray{Float64}(0.0)  Gray{Float64}(0.0)     Gray{Float64}(0.0)\n",
       " Gray{Float64}(0.0)  Gray{Float64}(0.0)     Gray{Float64}(0.0)\n",
       " Gray{Float64}(0.0)  Gray{Float64}(0.0)     Gray{Float64}(0.0)\n",
       " Gray{Float64}(0.0)  Gray{Float64}(0.0)     Gray{Float64}(0.0)"
      ]
     },
     "execution_count": 27,
     "metadata": {},
     "output_type": "execute_result"
    }
   ],
   "source": [
    "display_image([i for i in keys(nn_failed)])"
   ]
  }
 ],
 "metadata": {
  "kernelspec": {
   "display_name": "Julia 0.5.0",
   "language": "julia",
   "name": "julia-0.5"
  },
  "language_info": {
   "file_extension": ".jl",
   "mimetype": "application/julia",
   "name": "julia",
   "version": "0.5.0"
  }
 },
 "nbformat": 4,
 "nbformat_minor": 1
}
